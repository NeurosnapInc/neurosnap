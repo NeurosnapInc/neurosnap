{
 "cells": [
  {
   "cell_type": "markdown",
   "metadata": {},
   "source": [
    "# Neurosnap API Tutorial\n",
    "[![Neurosnap Header](https://raw.githubusercontent.com/NeurosnapInc/neurosnap/refs/heads/main/assets/header.webp)](https://neurosnap.ai/)\n",
    "\n",
    "In this tutorial, we demonstrate how to use the NeurosnapAPI class and associated methods from the [Neurosnap tools package](https://github.com/NeurosnapInc/neurosnap/). This guide will walk you through the various functionalities provided by the Neurosnap API, helping you understand how to interact with Neurosnap services, manage jobs, and work with team information.\n",
    "\n",
    "[![Open In Colab](https://colab.research.google.com/assets/colab-badge.svg)](https://colab.research.google.com/github/NeurosnapInc/neurosnap/blob/main/example_notebooks/api.ipynb)"
   ]
  },
  {
   "cell_type": "markdown",
   "metadata": {},
   "source": [
    "#### Part 0. Installing Dependencies on Colab"
   ]
  },
  {
   "cell_type": "code",
   "execution_count": 1,
   "metadata": {},
   "outputs": [],
   "source": [
    "import subprocess\n",
    "import sys\n",
    "\n",
    "if 'google.colab' in sys.modules:\n",
    "    subprocess.run(\"pip install -U --no-cache-dir git+https://github.com/NeurosnapInc/neurosnap.git\", shell=True, check=True, executable=\"/bin/bash\")"
   ]
  },
  {
   "cell_type": "markdown",
   "metadata": {},
   "source": [
    "#### Part 1. `NeurosnapAPI` Class: Connecting to Neurosnap\n",
    "The `NeurosnapAPI` class allows you to connect to the Neurosnap platform using your API key. Upon creating an instance of this class, it automatically checks the validity of your key by making a request to the Neurosnap API. If the key is invalid, an error will be raised, prompting you to verify your credentials. This authentication step is essential for accessing the platform’s features, such as submitting jobs and retrieving data.\n",
    "You can generate and delete API keys by visiting the [Neurosnap Overview page](https://neurosnap.ai/overview) under the \"API Key\" section."
   ]
  },
  {
   "cell_type": "code",
   "execution_count": 2,
   "metadata": {},
   "outputs": [
    {
     "name": "stderr",
     "output_type": "stream",
     "text": [
      "\u001b[38;5;295m[*]\u001b[0m Successfully connected to the Neurosnap API.\n",
      " - For information visit https://neurosnap.ai/blog/post/66b00dacec3f2aa9b4be703a\n",
      " - For support visit https://neurosnap.ai/support\n",
      " - For bug reports visit https://github.com/NeurosnapInc/neurosnap\n"
     ]
    }
   ],
   "source": [
    "import os\n",
    "\n",
    "import pandas as pd\n",
    "from neurosnap.api import NeurosnapAPI\n",
    "from neurosnap.protein import Protein\n",
    "\n",
    "api_key = os.environ.get('ns_key')\n",
    "api = NeurosnapAPI(api_key) # replace with your API key\n"
   ]
  },
  {
   "cell_type": "markdown",
   "metadata": {},
   "source": [
    "#### Part 2. `get_services` Method: Retrieving Neurosnap Services\n",
    "The get_services method allows you to fetch a list of all available services on the Neurosnap platform. This function gives you the flexibility to print the services in different formats or simply retrieve them for further use.\n",
    "\n",
    "Functionality:\n",
    "- Fetch Services: It retrieves a list of available services from Neurosnap's API and returns it as a list of dictionaries.\n",
    "- Optional Printing: You can optionally print the services in two formats:\n",
    "    - \"table\": Displays services in a table format showing key information (title, beta status, link).\n",
    "    - \"json\": Prints the raw JSON response, formatted for readability.\n",
    "    - None: By default, the function will not print anything but will return the data."
   ]
  },
  {
   "cell_type": "code",
   "execution_count": 3,
   "metadata": {},
   "outputs": [
    {
     "name": "stdout",
     "output_type": "stream",
     "text": [
      "Title                                         Beta    Link\n",
      "--------------------------------------------  ------  -------------------------------------------------------------------------------\n",
      "NeuroFold                                     False   https://neurosnap.ai/service/NeuroFold\n",
      "AlphaFold2                                    False   https://neurosnap.ai/service/AlphaFold2\n",
      "DiffDock-L                                    False   https://neurosnap.ai/service/DiffDock-L\n",
      "DynamicBind                                   False   https://neurosnap.ai/service/DynamicBind\n",
      "RFdiffusion-v2                                False   https://neurosnap.ai/service/RFdiffusion-v2\n",
      "ColabDock                                     False   https://neurosnap.ai/service/ColabDock\n",
      "RoseTTAFold2                                  False   https://neurosnap.ai/service/RoseTTAFold2\n",
      "RoseTTAFold All-Atom                          False   https://neurosnap.ai/service/RoseTTAFold%20All-Atom\n",
      "PocketFlow                                    False   https://neurosnap.ai/service/PocketFlow\n",
      "Transcript Assembly                           False   https://neurosnap.ai/service/Transcript%20Assembly\n",
      "LightDock                                     False   https://neurosnap.ai/service/LightDock\n",
      "ESMFold                                       False   https://neurosnap.ai/service/ESMFold\n",
      "LigandMPNN                                    False   https://neurosnap.ai/service/LigandMPNN\n",
      "ProteinMPNN                                   False   https://neurosnap.ai/service/ProteinMPNN\n",
      "AntiFold                                      False   https://neurosnap.ai/service/AntiFold\n",
      "ABACUS-R Sequence Design                      True    https://neurosnap.ai/service/ABACUS-R%20Sequence%20Design\n",
      "NetSolP-1.0                                   False   https://neurosnap.ai/service/NetSolP-1.0\n",
      "DEAnalysis                                    False   https://neurosnap.ai/service/DEAnalysis\n",
      "ESM-IF1                                       False   https://neurosnap.ai/service/ESM-IF1\n",
      "MIF-ST                                        False   https://neurosnap.ai/service/MIF-ST\n",
      "ProGen2                                       False   https://neurosnap.ai/service/ProGen2\n",
      "AfCycDesign                                   False   https://neurosnap.ai/service/AfCycDesign\n",
      "AF2Bind                                       False   https://neurosnap.ai/service/AF2Bind\n",
      "ScanNet Protein Binding Site Prediction       False   https://neurosnap.ai/service/ScanNet%20Protein%20Binding%20Site%20Prediction\n",
      "AFcluster                                     False   https://neurosnap.ai/service/AFcluster\n",
      "CombFold                                      False   https://neurosnap.ai/service/CombFold\n",
      "TIsigner Expression Optimization              False   https://neurosnap.ai/service/TIsigner%20Expression%20Optimization\n",
      "SoDoPE Solubility Optimization                False   https://neurosnap.ai/service/SoDoPE%20Solubility%20Optimization\n",
      "Razor Signal Peptide Detection                False   https://neurosnap.ai/service/Razor%20Signal%20Peptide%20Detection\n",
      "WoLF PSORT Protein Localization               False   https://neurosnap.ai/service/WoLF%20PSORT%20Protein%20Localization\n",
      "ProtNLM                                       False   https://neurosnap.ai/service/ProtNLM\n",
      "ESM-2 for PTMs                                False   https://neurosnap.ai/service/ESM-2%20for%20PTMs\n",
      "EnzBert E.C. Prediction                       False   https://neurosnap.ai/service/EnzBert%20E.C.%20Prediction\n",
      "DeepTM Transmembrane Topology                 False   https://neurosnap.ai/service/DeepTM%20Transmembrane%20Topology\n",
      "EvoProtGrad Protein Evolution                 False   https://neurosnap.ai/service/EvoProtGrad%20Protein%20Evolution\n",
      "ClusterProt                                   False   https://neurosnap.ai/service/ClusterProt\n",
      "DLKcat Kcat Prediction                        True    https://neurosnap.ai/service/DLKcat%20Kcat%20Prediction\n",
      "TemStaPro Protein Thermostability Prediction  False   https://neurosnap.ai/service/TemStaPro%20Protein%20Thermostability%20Prediction\n",
      "eTox Drug Toxicity Prediction                 False   https://neurosnap.ai/service/eTox%20Drug%20Toxicity%20Prediction\n",
      "ToxinPred Peptide Toxicity Prediction         False   https://neurosnap.ai/service/ToxinPred%20Peptide%20Toxicity%20Prediction\n",
      "AlphaFlow                                     False   https://neurosnap.ai/service/AlphaFlow\n",
      "AMBER Relaxation                              False   https://neurosnap.ai/service/AMBER%20Relaxation\n",
      "GROMACS Molecular Dynamics                    True    https://neurosnap.ai/service/GROMACS%20Molecular%20Dynamics\n",
      "DockQ                                         False   https://neurosnap.ai/service/DockQ\n",
      "Protein Fold Stability Prediction             False   https://neurosnap.ai/service/Protein%20Fold%20Stability%20Prediction\n",
      "Foldseek Structural Clustering                True    https://neurosnap.ai/service/Foldseek%20Structural%20Clustering\n",
      "Foldtree                                      False   https://neurosnap.ai/service/Foldtree\n",
      "EpHod Optimal Enzyme pH Prediction            False   https://neurosnap.ai/service/EpHod%20Optimal%20Enzyme%20pH%20Prediction\n",
      "Immune Builder                                True    https://neurosnap.ai/service/Immune%20Builder\n",
      "DiffAb Antibody Design                        False   https://neurosnap.ai/service/DiffAb%20Antibody%20Design\n",
      "PDBFixer                                      False   https://neurosnap.ai/service/PDBFixer\n",
      "PDB2PQR                                       False   https://neurosnap.ai/service/PDB2PQR\n",
      "AutoDock Vina (smina)                         False   https://neurosnap.ai/service/AutoDock%20Vina%20%28smina%29\n",
      "Conformer Generator                           False   https://neurosnap.ai/service/Conformer%20Generator\n",
      "Haddock 3                                     True    https://neurosnap.ai/service/Haddock%203\n",
      "AutoDock-SS                                   True    https://neurosnap.ai/service/AutoDock-SS\n"
     ]
    }
   ],
   "source": [
    "services = api.get_services(format_type=\"table\")"
   ]
  },
  {
   "cell_type": "markdown",
   "metadata": {},
   "source": [
    "#### Part 3. Job Management Methods in NeurosnapAPI\n",
    "The following methods allow you to manage and interact with jobs submitted to Neurosnap. These methods cover everything from submitting new jobs, checking job status, and retrieving job files, to managing notes and sharing functionality.\n",
    "\n",
    "`get_jobs`: Retrieve Submitted Jobs\n",
    "This method fetches a list of all submitted jobs from Neurosnap.\n",
    "\n",
    "- Fetch Jobs: Retrieves submitted jobs as a list of dictionaries.\n",
    "- Optional Printing:\n",
    "    - \"table\": Displays jobs in a table format.\n",
    "    - \"json\": Prints the jobs in formatted JSON.\n",
    "    - None: No printing by default, just returns the job data."
   ]
  },
  {
   "cell_type": "code",
   "execution_count": 4,
   "metadata": {},
   "outputs": [
    {
     "name": "stdout",
     "output_type": "stream",
     "text": [
      "Status     Job ID                    User ID                   Service                        Submitted    Runtime    Note    Shared                     Team ID               Pipeline ID    Pipeline Node ID    Pipeline Item Index\n",
      "---------  ------------------------  ------------------------  -----------------------------  -----------  ---------  ------  --------  ------------------------  ------------------------  ------------------  ---------------------\n",
      "completed  6702feb00db6770388b10e34  66c61493dfaceccb0cca0af1  ProteinMPNN                    2024-10-07   9s                 False     000000000000000000000000  000000000000000000000000                   0                      0\n",
      "completed  6702fe220db6770388b10e33  66c61493dfaceccb0cca0af1  ProteinMPNN                    2024-10-07   15s                False     000000000000000000000000  000000000000000000000000                   0                      0\n",
      "completed  670037140db6770388b10b59  66c61493dfaceccb0cca0af1  RoseTTAFold2                   2024-10-04   2m                 False     000000000000000000000000  000000000000000000000000                   0                      0\n",
      "completed  670035da0db6770388b10b54  66c61493dfaceccb0cca0af1  EvoProtGrad Protein Evolution  2024-10-04   5s                 False     000000000000000000000000  000000000000000000000000                   0                      0\n",
      "completed  66fc50950db6770388b10505  66c61493dfaceccb0cca0af1  AlphaFold2                     2024-10-01   5m                 False     000000000000000000000000  000000000000000000000000                   0                      0\n"
     ]
    }
   ],
   "source": [
    "jobs = api.get_jobs(format_type=\"table\")"
   ]
  },
  {
   "cell_type": "markdown",
   "metadata": {},
   "source": [
    "`submit_job`: Submit a New Job\n",
    "This method submits a new job to Neurosnap.\n",
    "\n",
    "- Service Name: The Neurosnap service to run.\n",
    "- Files: A dictionary mapping file names to file paths.\n",
    "- Config: Any parameters required by the service.\n",
    "- Job ID: Returns the unique job ID upon successful submission.\n",
    "\n",
    "For this example, we will use the ProteinMPNN service. To ensure proper file and configuration setup for the service you intend to use, we recommend checking the service page on Neurosnap for detailed information about required inputs.\n",
    "\n",
    "For instance, the [ProteinMPNN service page](https://neurosnap.ai/service/ProteinMPNN) specifies required files and configuration parameters, such as input structure, number of sequences, and sampling temperature."
   ]
  },
  {
   "cell_type": "code",
   "execution_count": null,
   "metadata": {},
   "outputs": [
    {
     "name": "stderr",
     "output_type": "stream",
     "text": [
      "\u001b[38;5;295m[*]\u001b[0m Found matching structure in AF-DB, downloading and using that.\n"
     ]
    }
   ],
   "source": [
    "prot = Protein(\"A0A411PAU0\")  # loading a protein\n",
    "prot.save(\"A0A411PAU0.pdb\")  # saving the protein structure to a PDB file\n",
    "\n",
    "fields = {\n",
    "  \"Input Structure\": (\"structure.pdb\", open(\"A0A411PAU0.pdb\", \"rb\")),\n",
    "  \"Homo-oligomer\": \"false\",\n",
    "  \"Fixed Positions\": \"\",\n",
    "  \"Invert Selection\": \"false\",\n",
    "  \"Number Sequences\": \"100\",\n",
    "  \"Sampling Temperature\": \"0.15\",\n",
    "  \"Model Type\": \"v_48_020\",\n",
    "  \"Model Version\": \"original\",\n",
    "}\n",
    "job_id = api.submit_job(\"ProteinMPNN\", fields=fields, note=\"My ProteinMPNN job for A0A411PAU0\")"
   ]
  },
  {
   "cell_type": "markdown",
   "metadata": {},
   "source": [
    "`get_job_status`: Check Job Status\n",
    "This method retrieves the status of a job by its ID.\n",
    "\n",
    "- Job ID: Provide the ID of the job.\n",
    "- Status Retrieval: Returns the current job status (e.g., \"pending,\" \"running,\" \"completed\")."
   ]
  },
  {
   "cell_type": "code",
   "execution_count": 9,
   "metadata": {},
   "outputs": [
    {
     "data": {
      "text/plain": [
       "'completed'"
      ]
     },
     "execution_count": 9,
     "metadata": {},
     "output_type": "execute_result"
    }
   ],
   "source": [
    "api.get_job_status(job_id)"
   ]
  },
  {
   "cell_type": "markdown",
   "metadata": {},
   "source": [
    "`get_job_data`: Retrieve config data and files from a Neurosnap job."
   ]
  },
  {
   "cell_type": "code",
   "execution_count": null,
   "metadata": {},
   "outputs": [
    {
     "name": "stdout",
     "output_type": "stream",
     "text": [
      "File Name                File Size\n",
      "-----------------------  -----------\n",
      "pssm_conditional.json    56.65 KB\n",
      "pssm_unconditional.json  56.55 KB\n",
      "results.csv              13.96 KB\n"
     ]
    }
   ],
   "source": [
    "job_files = api.get_job_data(job_id)"
   ]
  },
  {
   "cell_type": "markdown",
   "metadata": {},
   "source": [
    "`get_job_file`: Download a specific file.\n",
    "This method allows you to download a specific file from a job.\n",
    "\n",
    "- Job ID & File Name: Provide the job ID, file type, and file name.\n",
    "- Save Path: Specify where the file should be saved locally.\n",
    "- Optional Share ID: If the job is shared, include the share ID. (for shared jobs only that are not submitted by you) "
   ]
  },
  {
   "cell_type": "code",
   "execution_count": 11,
   "metadata": {},
   "outputs": [
    {
     "name": "stdout",
     "output_type": "stream",
     "text": [
      "File saved to ./results.csv\n"
     ]
    },
    {
     "data": {
      "text/plain": [
       "('./results.csv', True)"
      ]
     },
     "execution_count": 11,
     "metadata": {},
     "output_type": "execute_result"
    }
   ],
   "source": [
    "api.get_job_file(job_id, 'out', 'results.csv', save_path='./results.csv')"
   ]
  },
  {
   "cell_type": "markdown",
   "metadata": {},
   "source": [
    "For example, the `results.csv` file is the results of our ProteinMPNN job."
   ]
  },
  {
   "cell_type": "code",
   "execution_count": 12,
   "metadata": {},
   "outputs": [
    {
     "data": {
      "text/html": [
       "<div>\n",
       "<style scoped>\n",
       "    .dataframe tbody tr th:only-of-type {\n",
       "        vertical-align: middle;\n",
       "    }\n",
       "\n",
       "    .dataframe tbody tr th {\n",
       "        vertical-align: top;\n",
       "    }\n",
       "\n",
       "    .dataframe thead th {\n",
       "        text-align: right;\n",
       "    }\n",
       "</style>\n",
       "<table border=\"1\" class=\"dataframe\">\n",
       "  <thead>\n",
       "    <tr style=\"text-align: right;\">\n",
       "      <th></th>\n",
       "      <th>rank</th>\n",
       "      <th>score</th>\n",
       "      <th>seqid</th>\n",
       "      <th>seq</th>\n",
       "    </tr>\n",
       "  </thead>\n",
       "  <tbody>\n",
       "    <tr>\n",
       "      <th>0</th>\n",
       "      <td>1</td>\n",
       "      <td>0.814</td>\n",
       "      <td>0.386</td>\n",
       "      <td>EVVLTESGGGTVAAGGSTTLTCTASTPVFNSSSATWAWWAQKAGGP...</td>\n",
       "    </tr>\n",
       "    <tr>\n",
       "      <th>1</th>\n",
       "      <td>2</td>\n",
       "      <td>0.815</td>\n",
       "      <td>0.394</td>\n",
       "      <td>SVVITESGGGTVAAGGSVTLTCTASTPAFNSSTATWSWWRQKAGGP...</td>\n",
       "    </tr>\n",
       "    <tr>\n",
       "      <th>2</th>\n",
       "      <td>3</td>\n",
       "      <td>0.816</td>\n",
       "      <td>0.402</td>\n",
       "      <td>ALVLTESGGGTVAAGGSTTLTCTASSSAFNSSTATWAWWAQKPGGP...</td>\n",
       "    </tr>\n",
       "    <tr>\n",
       "      <th>3</th>\n",
       "      <td>4</td>\n",
       "      <td>0.824</td>\n",
       "      <td>0.402</td>\n",
       "      <td>SITLTESGGGTVAAGGSTTLTCTASVPAFNSSSATWAWVRQKPGGP...</td>\n",
       "    </tr>\n",
       "    <tr>\n",
       "      <th>4</th>\n",
       "      <td>5</td>\n",
       "      <td>0.831</td>\n",
       "      <td>0.417</td>\n",
       "      <td>ELVLTESGGGTVAEGGSVTLTCTASKSAFTSSTATWGWLRQTPGGP...</td>\n",
       "    </tr>\n",
       "  </tbody>\n",
       "</table>\n",
       "</div>"
      ],
      "text/plain": [
       "   rank  score  seqid                                                seq\n",
       "0     1  0.814  0.386  EVVLTESGGGTVAAGGSTTLTCTASTPVFNSSSATWAWWAQKAGGP...\n",
       "1     2  0.815  0.394  SVVITESGGGTVAAGGSVTLTCTASTPAFNSSTATWSWWRQKAGGP...\n",
       "2     3  0.816  0.402  ALVLTESGGGTVAAGGSTTLTCTASSSAFNSSTATWAWWAQKPGGP...\n",
       "3     4  0.824  0.402  SITLTESGGGTVAAGGSTTLTCTASVPAFNSSSATWAWVRQKPGGP...\n",
       "4     5  0.831  0.417  ELVLTESGGGTVAEGGSVTLTCTASKSAFTSSTATWGWLRQTPGGP..."
      ]
     },
     "metadata": {},
     "output_type": "display_data"
    }
   ],
   "source": [
    "df = pd.read_csv('results.csv')\n",
    "display(df.head())"
   ]
  },
  {
   "cell_type": "markdown",
   "metadata": {},
   "source": [
    "`set_job_note`: Add a Note to a Job\n",
    "This method lets you attach a note to a job for easier management.\n",
    "\n",
    "- Job ID: Specify the job to attach the note to.\n",
    "- Note: The text note you want to add."
   ]
  },
  {
   "cell_type": "code",
   "execution_count": 13,
   "metadata": {},
   "outputs": [
    {
     "name": "stdout",
     "output_type": "stream",
     "text": [
      "Note set successfully for job ID 67041e980db6770388b11028.\n"
     ]
    }
   ],
   "source": [
    "api.set_job_note(job_id, 'Hello World!')"
   ]
  },
  {
   "cell_type": "markdown",
   "metadata": {},
   "source": [
    "`set_job_share`: Enable Job Sharing\n",
    "This method makes a job publicly accessible by enabling sharing.\n",
    "\n",
    "- Job ID: Provide the job ID to enable sharing.\n",
    "- Share ID: The method returns the share ID, which can be used to access the job publicly."
   ]
  },
  {
   "cell_type": "code",
   "execution_count": 14,
   "metadata": {},
   "outputs": [
    {
     "name": "stdout",
     "output_type": "stream",
     "text": [
      "https://neurosnap.ai/job/67041e980db6770388b11028?share=67041ec30db6770388b11029\n"
     ]
    }
   ],
   "source": [
    "share_id = api.set_job_share(job_id)\n",
    "\n",
    "print(f\"https://neurosnap.ai/job/{job_id}?share={share_id}\") # Public link to the job"
   ]
  },
  {
   "cell_type": "markdown",
   "metadata": {},
   "source": [
    "`delete_job_share`: Disable Job Sharing\n",
    "This method disables the sharing feature and makes a job private.\n",
    "\n",
    "- Job ID: Provide the job ID to make it private.\n",
    "- Action: The job is no longer publicly accessible."
   ]
  },
  {
   "cell_type": "code",
   "execution_count": 15,
   "metadata": {},
   "outputs": [
    {
     "name": "stdout",
     "output_type": "stream",
     "text": [
      "Job ID 67041e980db6770388b11028 is now private.\n"
     ]
    }
   ],
   "source": [
    "api.delete_job_share(job_id)"
   ]
  },
  {
   "cell_type": "markdown",
   "metadata": {},
   "source": [
    "#### Part 4. Team Collaboration\n",
    "The following methods allow you to manage and retrieve information about your Neurosnap team, including team details and jobs submitted by team members.\n",
    "\n",
    "`get_team_info`: Fetch Team Information\n",
    "This method retrieves your team's information if you are part of a Neurosnap Team.\n",
    "\n",
    "- Format Type: Optional parameter to specify the output format. You can choose from:\n",
    "    - table: Displays team information in a tabular format.\n",
    "    - json: Displays team information in JSON format.\n",
    "    - None: No printing by default, just returns the data.\n",
    "- Returns: A dictionary containing the team information."
   ]
  },
  {
   "cell_type": "code",
   "execution_count": null,
   "metadata": {},
   "outputs": [],
   "source": [
    "team_info = api.get_team_info(format_type=\"table\")"
   ]
  },
  {
   "cell_type": "markdown",
   "metadata": {},
   "source": [
    "`get_team_jobs`: Fetch Team Jobs\n",
    "This method retrieves all the jobs submitted by all members of your Neurosnap Team.\n",
    "\n",
    "- Format Type: Optional parameter to specify the output format. You can choose from:\n",
    "    - table: Displays the list of jobs in a tabular format.\n",
    "    - json: Displays the list of jobs in JSON format.\n",
    "    - None: No printing by default, just returns the data.\n",
    "- Returns: A list of dictionaries representing jobs submitted by team members. "
   ]
  },
  {
   "cell_type": "code",
   "execution_count": null,
   "metadata": {},
   "outputs": [],
   "source": [
    "team_jobs = api.get_team_jobs(format_type=\"table\")"
   ]
  }
 ],
 "metadata": {
  "kernelspec": {
   "display_name": "base",
   "language": "python",
   "name": "python3"
  },
  "language_info": {
   "codemirror_mode": {
    "name": "ipython",
    "version": 3
   },
   "file_extension": ".py",
   "mimetype": "text/x-python",
   "name": "python",
   "nbconvert_exporter": "python",
   "pygments_lexer": "ipython3",
   "version": "3.12.5"
  }
 },
 "nbformat": 4,
 "nbformat_minor": 4
}
