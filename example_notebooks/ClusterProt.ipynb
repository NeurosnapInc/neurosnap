{
 "cells": [
  {
   "cell_type": "markdown",
   "metadata": {},
   "source": [
    "[![Neurosnap Header](https://raw.githubusercontent.com/NeurosnapInc/neurosnap/refs/heads/main/assets/header.webp)](https://neurosnap.ai/)\n",
    "\n",
    "In this tutorial, we will explore how to use the `clusterprot` module from the [Neurosnap tools package](https://github.com/NeurosnapInc/neurosnap). The focus will be on applying protein clustering algorithms to identify meaningful patterns within protein datasets. Additionally, we will walk through the process of visualizing the clustering results, providing insights into the structural relationships between proteins.\n",
    "\n",
    "[![Open In Colab](https://colab.research.google.com/assets/colab-badge.svg)](https://colab.research.google.com/github/NeurosnapInc/neurosnap/blob/main/example_notebooks/ClusterProt.ipynb)"
   ]
  },
  {
   "cell_type": "markdown",
   "metadata": {},
   "source": [
    "#### Part 0. Installing Dependencies on Colab"
   ]
  },
  {
   "cell_type": "code",
   "execution_count": 1,
   "metadata": {},
   "outputs": [],
   "source": [
    "import subprocess\n",
    "import sys\n",
    "\n",
    "if 'google.colab' in sys.modules:\n",
    "    subprocess.run(\"pip install -U --no-cache-dir git+https://github.com/NeurosnapInc/neurosnap.git\", shell=True, check=True, executable=\"/bin/bash\")\n",
    "    subprocess.run(\"pip install umap_learn\", shell=True, check=True, executable=\"/bin/bash\")"
   ]
  },
  {
   "cell_type": "markdown",
   "metadata": {},
   "source": [
    "#### Part 1. Clustering Proteins with `ClusterProt`\n",
    "For the context of the tutorial, we are going to use the results of a demo run of [**Neurosnap AFcluster service**](https://neurosnap.ai/service/AFcluster), which predicts alternative protein conformations.\n",
    "\n",
    "**AFcluster** is a method that extends the capabilities of AlphaFold2 by enabling the prediction of multiple conformational states of proteins. While AlphaFold2 excels at predicting single structures, many proteins exist in several conformational substates critical to their biological function. AFcluster works by clustering a multiple-sequence alignment based on sequence similarity, which allows AlphaFold2 to sample alternative protein conformations with high confidence. The method has been used to investigate evolutionary distributions and predict structure variations across protein families. For instance, AFcluster successfully predicted alternative states of the metamorphic protein KaiB, which were validated through nuclear magnetic resonance spectroscopy. AFcluster also demonstrated sensitivity to point mutations, accurately predicting conformational flips in mutated proteins, thus revealing potential applications in understanding protein energy landscapes and biological function. (for more information, see the [AFcluster Paper](https://www.nature.com/articles/s41586-023-06832-9))\n"
   ]
  },
  {
   "cell_type": "markdown",
   "metadata": {},
   "source": [
    "##### Part 1.1. using the `NeurosnapAPI` class to connect to the Neurosnap API and download the results\n",
    "\n",
    "The `NeurosnapAPI` class allows you to connect to the Neurosnap platform using your API key. When you create an instance of this class, it automatically checks the validity of your key by making a request to the Neurosnap API. If the key is invalid, an error will be raised, prompting you to verify your credentials. This authentication step is crucial for accessing the platform’s features, such as submitting jobs and retrieving data. \n",
    "\n",
    "You can generate and manage your API keys by visiting the [Neurosnap Overview page](https://neurosnap.ai/overview) under the \"API Key\" section.\n",
    "\n",
    "For this tutorial, we will use the results of a demo run of **AFcluster** on the following sequence:\n",
    "\n",
    "**LCLYTHIGRNIYYGSYLYSETWNTGIMLLLITMATAFMGYVLPWGQMSFWGAT**\n",
    "\n",
    "\n",
    "results page: <https://neurosnap.ai/job/670975de6d01c88797edc749?share=670d746e4ed448ec1bd31467>\n"
   ]
  },
  {
   "cell_type": "code",
   "execution_count": 3,
   "metadata": {},
   "outputs": [
    {
     "name": "stderr",
     "output_type": "stream",
     "text": [
      "\u001b[38;5;295m[*]\u001b[0m Successfully connected to the Neurosnap API.\n",
      " - For information visit https://neurosnap.ai/blog/post/66b00dacec3f2aa9b4be703a\n",
      " - For support visit https://neurosnap.ai/support\n",
      " - For bug reports visit https://github.com/NeurosnapInc/neurosnap\n"
     ]
    }
   ],
   "source": [
    "import os\n",
    "import zipfile\n",
    "\n",
    "from neurosnap.algos.clusterprot import *\n",
    "from neurosnap.api import *\n",
    "\n",
    "api_key = os.environ.get('ns_key')\n",
    "api = NeurosnapAPI(api_key) # replace with your API key"
   ]
  },
  {
   "cell_type": "code",
   "execution_count": null,
   "metadata": {},
   "outputs": [
    {
     "name": "stdout",
     "output_type": "stream",
     "text": [
      "File Name                 File Size\n",
      "------------------------  -----------\n",
      "AFcluster Structures.zip  3.56 MB\n",
      "animation.gif             17.87 MB\n",
      "results.json              72.62 KB\n"
     ]
    }
   ],
   "source": [
    "files = api.get_job_data(job_id=\"670975de6d01c88797edc749\", share_id=\"670d746e4ed448ec1bd31467\") # get a list of files from the job"
   ]
  },
  {
   "cell_type": "code",
   "execution_count": 5,
   "metadata": {},
   "outputs": [
    {
     "name": "stdout",
     "output_type": "stream",
     "text": [
      "File saved to ./AFcluster Structures.zip\n"
     ]
    }
   ],
   "source": [
    "# Download the AFcluster structures from the job\n",
    "file_path, _ = api.get_job_file(\n",
    "    job_id=\"670975de6d01c88797edc749\",   # Job ID for the AFcluster run\n",
    "    file_type=\"out\",                     # Specify the type of file (output)\n",
    "    file_name=\"AFcluster Structures.zip\", # Name of the file to download\n",
    "    save_path=\"./AFcluster Structures.zip\", # Local path to save the file\n",
    "    share_id=\"670d746e4ed448ec1bd31467\"   # Share ID\n",
    ")"
   ]
  },
  {
   "cell_type": "code",
   "execution_count": 6,
   "metadata": {},
   "outputs": [],
   "source": [
    "# unzip AFcluster Structures.zip\n",
    "with zipfile.ZipFile('./AFcluster Structures.zip', 'r') as zip_ref:\n",
    "    zip_ref.extractall('./AFcluster Structures')"
   ]
  },
  {
   "cell_type": "markdown",
   "metadata": {},
   "source": [
    "##### Part 1.2. ClusterProt Algorithm and Function Explanation\n",
    "\n",
    "The `ClusterProt` function implements an algorithm for clustering proteins based on their structural similarity. Here's a breakdown of the algorithm and the function:\n",
    "\n",
    "**Algorithm Overview**\n",
    "\n",
    "1. **Load and Validate Input**: Ensure all protein structures are fully loaded and valid.\n",
    "2. **Compute Distance Matrices**: Calculate distance matrices using alpha carbons of all loaded proteins from selected regions.\n",
    "3. **Flatten Distance Matrices**: Get the flattened upper triangle of the distance matrices, excluding the diagonal.\n",
    "4. **Align Proteins**: Align all proteins to a reference protein (optional, but useful for analysis like animation).\n",
    "5. **Create 2D Projection**: Use UMAP (Uniform Manifold Approximation and Projection) to create a 2D projection of the protein structures.\n",
    "6. **Cluster Proteins**: Apply DBSCAN (Density-Based Spatial Clustering of Applications with Noise) to cluster the 2D projections.\n",
    "7. **Create 1D Projection**: Generate a 1D projection using either UMAP or PCA (Principal Component Analysis) for organizing proteins one-dimensionally (optional, but useful for visualization).\n",
    "\n",
    "**Function Parameters**\n",
    "\n",
    "- `proteins`: List of proteins to cluster (can be Protein objects or file paths)\n",
    "- `model`: Model ID to use (must be consistent across all structures)\n",
    "- `chain`: Chain ID to use (must be consistent across all structures, optional)\n",
    "- `proj_1d_algo`: Algorithm for 1D projection (\"umap\" or \"pca\")\n",
    "\n",
    "Now let's run the algorithm on the **AFcluster** structures by creating a list of file paths to the `.pdb` files. These paths will allow us to feed the structures into the **ClusterProt** algorithm for further analysis:\n"
   ]
  },
  {
   "cell_type": "code",
   "execution_count": 7,
   "metadata": {},
   "outputs": [],
   "source": [
    "# List all files in the AFcluster Structures directory\n",
    "files = os.listdir('./AFcluster Structures')\n",
    "\n",
    "# create a list of paths to the .pdb files\n",
    "pdb_paths = [\n",
    "    f\"./AFcluster Structures/{file_name}\" \n",
    "    for file_name in files if file_name.endswith('.pdb')\n",
    "]"
   ]
  },
  {
   "cell_type": "code",
   "execution_count": 8,
   "metadata": {},
   "outputs": [
    {
     "name": "stderr",
     "output_type": "stream",
     "text": [
      "\u001b[38;5;47m[+]\u001b[0m Loading 478 for clustering\n",
      "\u001b[38;5;47m[+]\u001b[0m Clustering 478 proteins\n",
      "\u001b[38;5;47m[+]\u001b[0m Computing distance matrices\n",
      "\u001b[38;5;47m[+]\u001b[0m Aligning all proteins\n",
      "\u001b[38;5;47m[+]\u001b[0m Creating 2D projection and clustering it using DBSCAN\n",
      "\u001b[38;5;47m[+]\u001b[0m Computing 1D projection for animation\n"
     ]
    }
   ],
   "source": [
    "clusters = ClusterProt(pdb_paths, proj_1d_algo=\"umap\") # you can also specify the model and chain"
   ]
  },
  {
   "cell_type": "markdown",
   "metadata": {},
   "source": [
    "#### Part 2. Visualize Results\n",
    "Now let's visualize the results using two functions: `animate_results` and `create_figure_plotly`.\n",
    "\n",
    "1. **`animate_results(cp_results, animation_fpath=\"cluster_prot.gif\")`**:\n",
    "   This function generates an animation that visualizes the aligned proteins and their 1D projections from the **ClusterProt** results. The proteins are sorted by their 1D projections, and for each protein, a pseudo-3D plot is created and added to the animation. The final animation is saved as a GIF file at the specified path.\n",
    "   \n",
    "   - **Parameters**:\n",
    "     - `cp_results`: A dictionary containing the results from the ClusterProt run, including protein structures and their projections.\n",
    "     - `animation_fpath`: The file path where the animation will be saved.\n",
    "   \n",
    "\n",
    "2. **`create_figure_plotly(cp_results)`**:\n",
    "   This function creates an interactive scatter plot of the 2D projections from the ClusterProt results using the Plotly Express library. Each point represents a protein, with colors indicating the conformation clusters. Hovering over the points reveals additional information about each protein.\n",
    "   \n",
    "   - **Parameters**:\n",
    "     - `cp_results`: A dictionary containing the results from the ClusterProt run, including the 2D projections and cluster labels.\n",
    "   \n",
    "\n",
    "Now let's visualize the results:"
   ]
  },
  {
   "cell_type": "code",
   "execution_count": 9,
   "metadata": {},
   "outputs": [
    {
     "name": "stderr",
     "output_type": "stream",
     "text": [
      "\u001b[38;5;47m[+]\u001b[0m Drawing animation frames\n"
     ]
    },
    {
     "name": "stdout",
     "output_type": "stream",
     "text": [
      "Creating animation frames for 478/478 proteins\n"
     ]
    },
    {
     "data": {
      "image/png": "[encoded data removed]",
      "text/plain": [
       "<Figure size 640x480 with 1 Axes>"
      ]
     },
     "metadata": {},
     "output_type": "display_data"
    }
   ],
   "source": [
    "animate_results(clusters, animation_fpath=\"./cluster_prot.gif\") # the animation will be saved in the current directory"
   ]
  },
  {
   "cell_type": "markdown",
   "metadata": {},
   "source": [
    "![Animation](https://github.com/Danialgharaie/neurosnap/blob/main/assets/cluster_prot.gif?raw=true \"Animation\")\n"
   ]
  },
  {
   "cell_type": "code",
   "execution_count": 10,
   "metadata": {},
   "outputs": [
    {
     "data": {
      "application/vnd.plotly.v1+json": {
       "config": {
        "plotlyServerURL": "https://plot.ly"
       },
       "data": [
        {
         "hovertemplate": "<b>%{hovertext}</b><br><br>Conformation Clusters=cluster 0<br>x=%{x}<br>y=%{y}<extra></extra>",
         "hovertext": [
          "EX_U10-009.pdb",
          "EX_005.pdb",
          "EX_442.pdb",
          "EX_255.pdb",
          "EX_027.pdb",
          "EX_267.pdb",
          "EX_441.pdb",
          "EX_248.pdb",
          "EX_120.pdb",
          "EX_239.pdb",
          "EX_261.pdb",
          "EX_259.pdb",
          "EX_081.pdb",
          "EX_049.pdb",
          "EX_140.pdb",
          "EX_326.pdb",
          "EX_315.pdb",
          "EX_063.pdb",
          "EX_150.pdb",
          "EX_318.pdb",
          "EX_U10-007.pdb",
          "EX_291.pdb",
          "EX_203.pdb",
          "EX_210.pdb",
          "EX_104.pdb",
          "EX_163.pdb",
          "EX_003.pdb",
          "EX_132.pdb",
          "EX_280.pdb",
          "EX_314.pdb",
          "EX_245.pdb",
          "EX_168.pdb",
          "EX_131.pdb",
          "EX_033.pdb",
          "EX_173.pdb",
          "EX_016.pdb",
          "EX_183.pdb",
          "EX_286.pdb",
          "EX_295.pdb",
          "EX_165.pdb",
          "EX_199.pdb",
          "EX_207.pdb",
          "EX_292.pdb"
         ],
         "legendgroup": "cluster 0",
         "marker": {
          "color": "#636efa",
          "symbol": "circle"
         },
         "mode": "markers",
         "name": "cluster 0",
         "orientation": "v",
         "showlegend": true,
         "type": "scatter",
         "x": [
          5.961162090301514,
          6.137279987335205,
          6.2172112464904785,
          7.330599308013916,
          6.490043640136719,
          7.089262962341309,
          7.4583868980407715,
          6.88621187210083,
          5.810703754425049,
          7.594863414764404,
          6.1194658279418945,
          8.023475646972656,
          8.008846282958984,
          6.196587085723877,
          6.996357440948486,
          8.035840034484863,
          8.228598594665527,
          6.423214912414551,
          5.817356586456299,
          6.821064472198486,
          6.109595775604248,
          8.326212882995605,
          8.192843437194824,
          7.339470863342285,
          6.710224628448486,
          7.995199203491211,
          5.8178887367248535,
          6.887100696563721,
          7.763166427612305,
          7.2348480224609375,
          6.430152893066406,
          7.192746162414551,
          8.430425643920898,
          7.140158176422119,
          8.20262622833252,
          5.844297885894775,
          7.4407453536987305,
          7.223556041717529,
          6.75576639175415,
          6.783590793609619,
          7.354726791381836,
          8.144749641418457,
          7.677531719207764
         ],
         "xaxis": "x",
         "y": [
          1.4143182039260864,
          1.6866477727890015,
          1.7041606903076172,
          2.5937745571136475,
          2.064824104309082,
          2.5057525634765625,
          2.185239553451538,
          2.4011762142181396,
          1.9331525564193726,
          2.1192023754119873,
          1.7883038520812988,
          2.6403799057006836,
          2.5130951404571533,
          1.7568960189819336,
          2.449185371398926,
          2.648264169692993,
          2.4882400035858154,
          1.9811928272247314,
          1.8706045150756836,
          2.3654356002807617,
          1.7273814678192139,
          2.369051933288574,
          2.5223591327667236,
          2.5685908794403076,
          2.275068521499634,
          2.6426260471343994,
          1.8506546020507812,
          2.4494802951812744,
          2.670158624649048,
          2.598564386367798,
          1.9834696054458618,
          2.672982931137085,
          2.4201653003692627,
          2.547574996948242,
          2.5675323009490967,
          1.904680848121643,
          2.556232213973999,
          2.7041327953338623,
          2.316317081451416,
          2.3515071868896484,
          2.5219132900238037,
          2.3840699195861816,
          2.1243624687194824
         ],
         "yaxis": "y"
        },
        {
         "hovertemplate": "<b>%{hovertext}</b><br><br>Conformation Clusters=cluster 1<br>x=%{x}<br>y=%{y}<extra></extra>",
         "hovertext": [
          "EX_029.pdb",
          "EX_432.pdb",
          "EX_368.pdb",
          "EX_088.pdb",
          "EX_097.pdb",
          "EX_212.pdb",
          "EX_332.pdb",
          "EX_118.pdb",
          "EX_020.pdb",
          "EX_191.pdb",
          "EX_317.pdb",
          "EX_330.pdb",
          "EX_258.pdb",
          "EX_205.pdb",
          "EX_091.pdb",
          "EX_089.pdb",
          "EX_019.pdb",
          "EX_320.pdb",
          "EX_235.pdb",
          "EX_381.pdb",
          "EX_264.pdb",
          "EX_277.pdb",
          "EX_053.pdb",
          "EX_010.pdb",
          "EX_331.pdb",
          "EX_313.pdb",
          "EX_103.pdb",
          "EX_289.pdb",
          "EX_282.pdb",
          "EX_389.pdb",
          "EX_297.pdb",
          "EX_060.pdb",
          "EX_086.pdb",
          "EX_109.pdb",
          "EX_065.pdb",
          "EX_008.pdb",
          "EX_283.pdb",
          "EX_180.pdb",
          "EX_147.pdb",
          "EX_311.pdb",
          "EX_073.pdb",
          "EX_236.pdb",
          "EX_272.pdb",
          "EX_406.pdb",
          "EX_039.pdb",
          "EX_397.pdb",
          "EX_251.pdb",
          "EX_380.pdb",
          "EX_179.pdb",
          "EX_170.pdb",
          "EX_148.pdb",
          "EX_112.pdb",
          "EX_293.pdb",
          "EX_110.pdb",
          "EX_276.pdb",
          "EX_217.pdb",
          "EX_004.pdb",
          "EX_038.pdb",
          "EX_123.pdb",
          "EX_270.pdb",
          "EX_162.pdb",
          "EX_159.pdb",
          "EX_316.pdb",
          "EX_074.pdb",
          "EX_417.pdb",
          "EX_211.pdb",
          "EX_329.pdb",
          "EX_117.pdb",
          "EX_194.pdb",
          "EX_157.pdb",
          "EX_399.pdb",
          "EX_143.pdb",
          "EX_349.pdb",
          "EX_303.pdb",
          "EX_285.pdb",
          "EX_413.pdb",
          "EX_437.pdb",
          "EX_040.pdb",
          "EX_419.pdb",
          "EX_307.pdb",
          "EX_224.pdb",
          "EX_001.pdb",
          "EX_002.pdb",
          "EX_443.pdb",
          "EX_445.pdb",
          "EX_138.pdb"
         ],
         "legendgroup": "cluster 1",
         "marker": {
          "color": "#EF553B",
          "symbol": "circle"
         },
         "mode": "markers",
         "name": "cluster 1",
         "orientation": "v",
         "showlegend": true,
         "type": "scatter",
         "x": [
          9.712247848510742,
          11.478137969970703,
          11.503617286682129,
          11.903225898742676,
          11.064461708068848,
          11.786277770996094,
          11.338483810424805,
          11.398026466369629,
          9.535554885864258,
          10.523407936096191,
          11.168660163879395,
          11.503907203674316,
          10.590261459350586,
          11.04481029510498,
          11.140368461608887,
          11.424970626831055,
          11.33263874053955,
          11.546448707580566,
          10.01727294921875,
          9.482565879821777,
          9.694859504699707,
          11.181502342224121,
          11.627938270568848,
          11.888751983642578,
          11.450820922851562,
          11.351848602294922,
          9.750204086303711,
          11.425169944763184,
          9.716541290283203,
          9.579571723937988,
          10.749582290649414,
          9.321061134338379,
          9.886208534240723,
          11.352563858032227,
          9.876326560974121,
          11.268219947814941,
          11.06921672821045,
          11.863569259643555,
          9.697122573852539,
          11.258768081665039,
          9.709212303161621,
          11.806852340698242,
          11.850058555603027,
          11.230902671813965,
          11.214147567749023,
          9.671733856201172,
          11.716160774230957,
          9.690408706665039,
          9.687409400939941,
          11.89542293548584,
          11.100007057189941,
          11.24858283996582,
          9.652849197387695,
          11.334117889404297,
          9.629093170166016,
          9.386455535888672,
          11.201428413391113,
          11.54063606262207,
          9.786605834960938,
          9.922832489013672,
          10.457468032836914,
          10.28087329864502,
          11.296285629272461,
          10.534443855285645,
          11.272933006286621,
          9.781349182128906,
          9.151093482971191,
          11.296709060668945,
          11.073075294494629,
          11.531781196594238,
          11.458925247192383,
          9.907118797302246,
          11.853339195251465,
          11.300911903381348,
          11.34555721282959,
          11.070521354675293,
          9.61077880859375,
          9.665109634399414,
          10.120623588562012,
          11.430624008178711,
          9.311898231506348,
          10.444510459899902,
          9.6454439163208,
          9.727032661437988,
          9.702009201049805,
          11.764676094055176
         ],
         "xaxis": "x",
         "y": [
          1.7152900695800781,
          -0.5341134667396545,
          -0.6576093435287476,
          0.49282029271125793,
          0.04997985437512398,
          0.9984128475189209,
          -0.9916261434555054,
          -1.043487787246704,
          2.501079797744751,
          1.9309918880462646,
          1.319176435470581,
          1.2211246490478516,
          1.4518215656280518,
          1.3514920473098755,
          0.0626496821641922,
          -0.5641624331474304,
          -1.191598653793335,
          1.0579900741577148,
          2.1674487590789795,
          0.33515846729278564,
          0.7830560803413391,
          1.275628685951233,
          1.0310189723968506,
          0.9236582517623901,
          0.39989328384399414,
          -1.129191279411316,
          0.5787773132324219,
          0.9798755049705505,
          1.3081721067428589,
          1.4375370740890503,
          1.712833285331726,
          2.622288465499878,
          0.5568721890449524,
          -0.9294745922088623,
          2.141062021255493,
          -0.34402045607566833,
          1.348715901374817,
          0.4225853681564331,
          2.2710649967193604,
          1.1050734519958496,
          0.6810140609741211,
          0.5194657444953918,
          0.5679327845573425,
          0.1133069172501564,
          1.0550017356872559,
          1.4132765531539917,
          0.27966824173927307,
          0.5222630500793457,
          1.3801183700561523,
          0.39154598116874695,
          0.24189676344394684,
          1.253716230392456,
          0.692054808139801,
          0.41797924041748047,
          0.9537471532821655,
          2.5989246368408203,
          0.06744852662086487,
          -0.5900452136993408,
          1.6999661922454834,
          1.6361395120620728,
          1.8912196159362793,
          1.9716876745224,
          -1.1297508478164673,
          1.413754940032959,
          0.7658306956291199,
          1.3874412775039673,
          2.669402599334717,
          0.5308143496513367,
          1.505111575126648,
          -0.6714829206466675,
          -0.8539287447929382,
          1.578057885169983,
          0.9332305192947388,
          -0.318410724401474,
          1.1256524324417114,
          1.5171748399734497,
          1.227279782295227,
          0.9659402370452881,
          2.1009230613708496,
          0.7093084454536438,
          2.6427996158599854,
          1.9549295902252197,
          1.0822761058807373,
          2.359636068344116,
          1.5810045003890991,
          0.5827475190162659
         ],
         "yaxis": "y"
        },
        {
         "hovertemplate": "<b>%{hovertext}</b><br><br>Conformation Clusters=cluster 2<br>x=%{x}<br>y=%{y}<extra></extra>",
         "hovertext": [
          "EX_444.pdb",
          "EX_085.pdb",
          "EX_416.pdb",
          "EX_189.pdb",
          "EX_141.pdb",
          "EX_048.pdb",
          "EX_420.pdb",
          "EX_421.pdb",
          "EX_370.pdb",
          "EX_253.pdb",
          "EX_219.pdb",
          "EX_069.pdb",
          "EX_058.pdb",
          "EX_427.pdb",
          "EX_334.pdb",
          "EX_070.pdb",
          "EX_066.pdb",
          "EX_121.pdb",
          "EX_369.pdb",
          "EX_044.pdb",
          "EX_061.pdb",
          "EX_169.pdb",
          "EX_434.pdb",
          "EX_457.pdb",
          "EX_337.pdb",
          "EX_431.pdb",
          "EX_454.pdb",
          "EX_342.pdb",
          "EX_275.pdb",
          "EX_094.pdb",
          "EX_364.pdb",
          "EX_373.pdb",
          "EX_046.pdb",
          "EX_358.pdb",
          "EX_129.pdb",
          "EX_383.pdb",
          "EX_026.pdb",
          "EX_284.pdb",
          "EX_407.pdb",
          "EX_387.pdb",
          "EX_142.pdb",
          "EX_106.pdb",
          "EX_178.pdb",
          "EX_240.pdb",
          "EX_042.pdb",
          "EX_453.pdb",
          "EX_182.pdb",
          "EX_231.pdb",
          "EX_386.pdb",
          "EX_054.pdb",
          "EX_384.pdb",
          "EX_395.pdb",
          "EX_206.pdb",
          "EX_408.pdb",
          "EX_136.pdb",
          "EX_378.pdb",
          "EX_082.pdb",
          "EX_204.pdb",
          "EX_306.pdb",
          "EX_149.pdb",
          "EX_011.pdb",
          "EX_347.pdb",
          "EX_405.pdb",
          "EX_116.pdb",
          "EX_456.pdb",
          "EX_336.pdb",
          "EX_446.pdb",
          "EX_438.pdb",
          "EX_193.pdb",
          "EX_424.pdb",
          "EX_455.pdb",
          "EX_080.pdb",
          "EX_111.pdb",
          "EX_243.pdb",
          "EX_409.pdb",
          "EX_410.pdb",
          "EX_230.pdb",
          "EX_102.pdb",
          "EX_449.pdb",
          "EX_351.pdb",
          "EX_221.pdb",
          "EX_402.pdb",
          "EX_388.pdb",
          "EX_433.pdb",
          "EX_266.pdb",
          "EX_009.pdb",
          "EX_007.pdb",
          "EX_412.pdb",
          "EX_365.pdb",
          "EX_418.pdb",
          "EX_344.pdb",
          "EX_390.pdb",
          "EX_451.pdb",
          "EX_382.pdb",
          "EX_354.pdb",
          "EX_376.pdb",
          "EX_220.pdb",
          "EX_428.pdb",
          "EX_084.pdb",
          "EX_301.pdb",
          "EX_216.pdb",
          "EX_425.pdb",
          "EX_343.pdb",
          "EX_062.pdb",
          "EX_366.pdb",
          "EX_119.pdb",
          "EX_017.pdb",
          "EX_006.pdb",
          "EX_247.pdb",
          "EX_278.pdb",
          "EX_392.pdb",
          "EX_192.pdb",
          "EX_229.pdb",
          "EX_367.pdb",
          "EX_241.pdb",
          "EX_394.pdb",
          "EX_393.pdb",
          "EX_305.pdb",
          "EX_164.pdb",
          "EX_414.pdb",
          "EX_114.pdb",
          "EX_448.pdb",
          "EX_023.pdb",
          "EX_030.pdb",
          "EX_035.pdb",
          "EX_154.pdb",
          "EX_281.pdb",
          "EX_124.pdb",
          "EX_155.pdb",
          "EX_355.pdb",
          "EX_072.pdb",
          "EX_201.pdb",
          "EX_287.pdb",
          "EX_174.pdb",
          "EX_319.pdb",
          "EX_254.pdb",
          "EX_352.pdb",
          "EX_357.pdb",
          "EX_435.pdb",
          "EX_362.pdb",
          "EX_346.pdb",
          "EX_041.pdb",
          "EX_156.pdb",
          "EX_012.pdb",
          "EX_379.pdb",
          "EX_078.pdb",
          "EX_047.pdb",
          "EX_196.pdb",
          "EX_312.pdb",
          "EX_043.pdb",
          "EX_108.pdb",
          "EX_374.pdb",
          "EX_377.pdb",
          "EX_426.pdb",
          "EX_209.pdb",
          "EX_335.pdb",
          "EX_059.pdb",
          "EX_440.pdb",
          "EX_263.pdb",
          "EX_137.pdb",
          "EX_077.pdb",
          "EX_363.pdb",
          "EX_452.pdb",
          "EX_422.pdb"
         ],
         "legendgroup": "cluster 2",
         "marker": {
          "color": "#00cc96",
          "symbol": "circle"
         },
         "mode": "markers",
         "name": "cluster 2",
         "orientation": "v",
         "showlegend": true,
         "type": "scatter",
         "x": [
          -0.16492539644241333,
          2.4712913036346436,
          4.565299034118652,
          4.78992223739624,
          2.073295831680298,
          1.0019298791885376,
          1.567644476890564,
          0.1158478707075119,
          1.1145027875900269,
          2.5003178119659424,
          0.4421157240867615,
          3.169363021850586,
          1.6116358041763306,
          -0.8616154789924622,
          0.5607120394706726,
          2.5193567276000977,
          1.4810338020324707,
          2.354198455810547,
          -1.0250329971313477,
          -0.1787748634815216,
          2.57684326171875,
          3.7485992908477783,
          4.396823406219482,
          0.5630165934562683,
          3.530687093734741,
          4.504851341247559,
          1.4275577068328857,
          -1.4421582221984863,
          -1.4556471109390259,
          -0.5560685396194458,
          1.6516152620315552,
          0.8816736340522766,
          2.570784330368042,
          0.749264121055603,
          4.504970073699951,
          -1.1223766803741455,
          -1.4610099792480469,
          4.861025333404541,
          1.3533251285552979,
          0.8046002984046936,
          3.564216375350952,
          -1.4720852375030518,
          -1.1835790872573853,
          -0.9710829257965088,
          2.6005513668060303,
          0.06934595108032227,
          0.8307778239250183,
          2.0450141429901123,
          2.3625850677490234,
          -1.5130891799926758,
          0.9167479276657104,
          0.4156751036643982,
          -1.0558701753616333,
          2.3583836555480957,
          4.776978015899658,
          -0.6819683313369751,
          0.9936147928237915,
          1.3826323747634888,
          1.9567419290542603,
          3.642296552658081,
          3.6529669761657715,
          -0.6180271506309509,
          2.275381565093994,
          0.6217761039733887,
          -0.7883334159851074,
          0.12924383580684662,
          -0.43104758858680725,
          2.2000064849853516,
          1.0177314281463623,
          1.1417535543441772,
          0.2008628398180008,
          -1.3457114696502686,
          1.373453140258789,
          -1.1935826539993286,
          -0.8350042700767517,
          2.7818715572357178,
          -0.02581925317645073,
          2.4674031734466553,
          4.219638347625732,
          -0.7109594345092773,
          -1.0898230075836182,
          0.9614453315734863,
          -0.7989412546157837,
          -0.05140388384461403,
          1.3163173198699951,
          3.497174024581909,
          -0.4019418954849243,
          3.0134048461914062,
          1.862876296043396,
          2.8234682083129883,
          4.827332973480225,
          -0.09595823287963867,
          -1.4097212553024292,
          -1.13862144947052,
          0.9717168211936951,
          2.3844761848449707,
          -0.823125422000885,
          -1.019791603088379,
          2.8347256183624268,
          1.9186761379241943,
          -1.236352562904358,
          1.0151066780090332,
          -0.0769718736410141,
          -1.0594632625579834,
          1.962153673171997,
          4.630229949951172,
          -0.24881361424922943,
          1.7531675100326538,
          0.14320892095565796,
          1.4381030797958374,
          0.43786585330963135,
          -1.0451054573059082,
          -0.6357226371765137,
          1.2808400392532349,
          -0.007131665945053101,
          2.2963979244232178,
          1.691746711730957,
          -0.33227041363716125,
          2.5966572761535645,
          -1.442547082901001,
          3.684648275375366,
          3.466125965118408,
          -0.9185760617256165,
          2.3547487258911133,
          -0.08497811108827591,
          3.759387731552124,
          -1.0910648107528687,
          -1.0674456357955933,
          2.3974292278289795,
          -0.34543338418006897,
          2.6560840606689453,
          0.13465887308120728,
          -0.06955519318580627,
          3.7556278705596924,
          0.9062171578407288,
          -0.2710270881652832,
          2.6288506984710693,
          2.0687367916107178,
          1.0277765989303589,
          2.3751626014709473,
          0.8198889493942261,
          0.0946347564458847,
          -1.2926746606826782,
          -0.1516529768705368,
          3.5951359272003174,
          -0.835526704788208,
          -1.155437707901001,
          1.566318154335022,
          -1.1717311143875122,
          4.873176097869873,
          1.8012241125106812,
          1.057959794998169,
          0.2718474864959717,
          -0.8867836594581604,
          3.478393316268921,
          -1.1694865226745605,
          -0.6465557813644409,
          -0.686474621295929,
          4.780514717102051,
          -0.6836106181144714,
          2.110663652420044,
          1.8353487253189087,
          -1.282700538635254,
          2.2293007373809814
         ],
         "xaxis": "x",
         "y": [
          11.09499740600586,
          7.581258296966553,
          7.389956474304199,
          7.511264324188232,
          7.377503871917725,
          9.087234497070312,
          7.896970272064209,
          9.407852172851562,
          9.141216278076172,
          7.229925155639648,
          9.213997840881348,
          7.227542400360107,
          8.76383113861084,
          9.905900001525879,
          9.18504810333252,
          7.716062068939209,
          8.986594200134277,
          7.361072063446045,
          9.931720733642578,
          11.255959510803223,
          7.43021297454834,
          7.26771354675293,
          7.26469612121582,
          9.713013648986816,
          6.951119422912598,
          7.33219051361084,
          7.757509231567383,
          12.41275405883789,
          12.291022300720215,
          12.288224220275879,
          7.6388325691223145,
          8.124271392822266,
          7.651888847351074,
          7.969003200531006,
          7.279151916503906,
          10.00576114654541,
          12.347807884216309,
          7.565568447113037,
          8.19735050201416,
          8.234376907348633,
          6.999477863311768,
          12.334263801574707,
          10.885488510131836,
          10.451900482177734,
          7.637453079223633,
          9.44394302368164,
          8.044547080993652,
          8.519978523254395,
          7.718892574310303,
          12.327718734741211,
          8.134713172912598,
          9.353754997253418,
          10.941575050354004,
          8.469341278076172,
          7.499899864196777,
          11.835478782653809,
          8.802355766296387,
          7.793514728546143,
          8.208773612976074,
          6.806396007537842,
          6.89315938949585,
          9.801326751708984,
          7.911592960357666,
          9.438485145568848,
          9.871370315551758,
          9.365518569946289,
          9.816339492797852,
          8.661928176879883,
          9.274764060974121,
          8.860442161560059,
          9.648845672607422,
          11.892617225646973,
          8.551763534545898,
          11.071788787841797,
          11.413809776306152,
          7.543428897857666,
          10.046172142028809,
          7.527437210083008,
          7.306013584136963,
          12.019559860229492,
          10.337224960327148,
          9.205490112304688,
          10.181329727172852,
          10.726744651794434,
          7.912961959838867,
          7.119110584259033,
          11.503876686096191,
          7.366543292999268,
          8.280807495117188,
          7.555016994476318,
          7.536505222320557,
          11.144593238830566,
          12.392745971679688,
          10.026931762695312,
          8.290611267089844,
          7.947507381439209,
          9.853094100952148,
          11.26969051361084,
          7.544900894165039,
          7.762264251708984,
          11.147246360778809,
          8.53007984161377,
          11.193791389465332,
          10.646552085876465,
          8.241293907165527,
          7.3696417808532715,
          11.495457649230957,
          7.567025184631348,
          9.372589111328125,
          8.156296730041504,
          9.388899803161621,
          10.101337432861328,
          12.202643394470215,
          8.289219856262207,
          9.604063987731934,
          7.861268520355225,
          8.632569313049316,
          11.406756401062012,
          7.1956915855407715,
          12.395959854125977,
          6.761185169219971,
          7.2222676277160645,
          11.163505554199219,
          8.371966361999512,
          10.777737617492676,
          6.848466396331787,
          10.000471115112305,
          12.302453994750977,
          7.614912509918213,
          11.123558044433594,
          7.746836185455322,
          9.42670726776123,
          11.202089309692383,
          6.830038547515869,
          9.355560302734375,
          11.466588973999023,
          7.875532627105713,
          7.704727649688721,
          7.993371963500977,
          7.4716057777404785,
          9.47915267944336,
          10.122040748596191,
          12.402981758117676,
          10.460021018981934,
          7.122607231140137,
          10.01379680633545,
          10.627616882324219,
          7.82993221282959,
          10.709305763244629,
          7.569123268127441,
          8.490887641906738,
          7.936249256134033,
          9.286009788513184,
          11.60720157623291,
          7.034613609313965,
          10.666703224182129,
          12.152140617370605,
          11.049290657043457,
          7.479693412780762,
          11.974581718444824,
          8.531217575073242,
          7.485667705535889,
          11.716203689575195,
          8.596658706665039
         ],
         "yaxis": "y"
        },
        {
         "hovertemplate": "<b>%{hovertext}</b><br><br>Conformation Clusters=cluster 3<br>x=%{x}<br>y=%{y}<extra></extra>",
         "hovertext": [
          "EX_113.pdb",
          "EX_322.pdb",
          "EX_215.pdb",
          "EX_257.pdb",
          "EX_265.pdb",
          "EX_242.pdb",
          "EX_391.pdb",
          "EX_068.pdb",
          "EX_423.pdb",
          "EX_128.pdb",
          "EX_036.pdb",
          "EX_188.pdb",
          "EX_051.pdb",
          "EX_093.pdb",
          "EX_325.pdb",
          "EX_099.pdb",
          "EX_234.pdb",
          "EX_256.pdb",
          "EX_139.pdb",
          "EX_015.pdb",
          "EX_415.pdb",
          "EX_279.pdb",
          "EX_299.pdb",
          "EX_071.pdb",
          "EX_223.pdb",
          "EX_145.pdb",
          "EX_328.pdb",
          "EX_146.pdb",
          "EX_105.pdb",
          "EX_034.pdb",
          "EX_160.pdb",
          "EX_133.pdb",
          "EX_087.pdb",
          "EX_359.pdb",
          "EX_222.pdb",
          "EX_327.pdb",
          "EX_436.pdb",
          "EX_400.pdb",
          "EX_309.pdb",
          "EX_083.pdb",
          "EX_250.pdb",
          "EX_396.pdb",
          "EX_356.pdb",
          "EX_214.pdb",
          "EX_252.pdb",
          "EX_228.pdb",
          "EX_233.pdb",
          "EX_064.pdb",
          "EX_018.pdb",
          "EX_372.pdb",
          "EX_260.pdb",
          "EX_333.pdb",
          "EX_184.pdb",
          "EX_350.pdb",
          "EX_056.pdb",
          "EX_126.pdb",
          "EX_274.pdb",
          "EX_361.pdb",
          "EX_218.pdb",
          "EX_225.pdb",
          "EX_430.pdb",
          "EX_310.pdb",
          "EX_429.pdb",
          "EX_U10-005.pdb",
          "EX_273.pdb",
          "EX_092.pdb",
          "EX_166.pdb",
          "EX_345.pdb",
          "EX_249.pdb",
          "EX_115.pdb",
          "EX_340.pdb",
          "EX_447.pdb",
          "EX_246.pdb",
          "EX_052.pdb",
          "EX_213.pdb",
          "EX_323.pdb",
          "EX_037.pdb",
          "EX_302.pdb"
         ],
         "legendgroup": "cluster 3",
         "marker": {
          "color": "#ab63fa",
          "symbol": "circle"
         },
         "mode": "markers",
         "name": "cluster 3",
         "orientation": "v",
         "showlegend": true,
         "type": "scatter",
         "x": [
          9.061052322387695,
          8.03580093383789,
          9.28636646270752,
          8.314591407775879,
          7.832048416137695,
          8.129531860351562,
          9.624273300170898,
          6.13784122467041,
          8.616308212280273,
          6.296326160430908,
          9.091822624206543,
          8.236830711364746,
          8.929723739624023,
          6.136090278625488,
          8.055704116821289,
          7.066350936889648,
          9.276229858398438,
          8.95199966430664,
          6.074113845825195,
          7.834804534912109,
          5.822123050689697,
          9.38755989074707,
          8.606639862060547,
          9.504804611206055,
          9.081645965576172,
          6.76461124420166,
          6.861425876617432,
          6.7949419021606445,
          8.30461597442627,
          8.162679672241211,
          6.362305641174316,
          9.03205680847168,
          9.188926696777344,
          9.016552925109863,
          7.100594997406006,
          8.544843673706055,
          6.859724998474121,
          6.826672077178955,
          6.792655944824219,
          6.025119781494141,
          8.460442543029785,
          8.120566368103027,
          6.079345226287842,
          8.77952766418457,
          7.747858047485352,
          8.088547706604004,
          8.940415382385254,
          7.0373053550720215,
          6.230175018310547,
          7.26604700088501,
          9.472997665405273,
          8.096940040588379,
          6.993656635284424,
          8.224137306213379,
          6.051978588104248,
          6.014391899108887,
          7.688603401184082,
          8.670602798461914,
          6.8003129959106445,
          8.771162033081055,
          6.933615684509277,
          8.578320503234863,
          8.030434608459473,
          5.746901512145996,
          7.866351127624512,
          8.002171516418457,
          6.587753772735596,
          6.053361415863037,
          7.877862930297852,
          8.054898262023926,
          8.165271759033203,
          9.434843063354492,
          8.421363830566406,
          8.203461647033691,
          8.44709587097168,
          7.61701774597168,
          8.63386344909668,
          9.423869132995605
         ],
         "xaxis": "x",
         "y": [
          14.77507209777832,
          15.76651668548584,
          15.127947807312012,
          15.721292495727539,
          16.06884002685547,
          14.507411003112793,
          14.746821403503418,
          16.09160041809082,
          14.320975303649902,
          16.265382766723633,
          15.24092960357666,
          15.75490665435791,
          15.460308074951172,
          16.078685760498047,
          14.7067289352417,
          16.263328552246094,
          15.304064750671387,
          15.491507530212402,
          16.100431442260742,
          16.053478240966797,
          16.138385772705078,
          15.272517204284668,
          15.014739990234375,
          14.869293212890625,
          15.372886657714844,
          16.02444076538086,
          16.359724044799805,
          16.40799331665039,
          15.843791961669922,
          14.571969985961914,
          16.1966495513916,
          15.4130277633667,
          15.217534065246582,
          15.485475540161133,
          16.161420822143555,
          14.3012113571167,
          16.336545944213867,
          16.324169158935547,
          16.394378662109375,
          16.13400650024414,
          14.421818733215332,
          15.761690139770508,
          16.114831924438477,
          15.59763240814209,
          15.771283149719238,
          14.574320793151855,
          15.502569198608398,
          16.23946189880371,
          16.051149368286133,
          16.164718627929688,
          14.951584815979004,
          15.742422103881836,
          16.24842071533203,
          15.194055557250977,
          16.167200088500977,
          16.18970489501953,
          16.103374481201172,
          14.65084457397461,
          16.332027435302734,
          15.557621955871582,
          15.89947509765625,
          14.405291557312012,
          14.721881866455078,
          16.10748863220215,
          15.589984893798828,
          14.769661903381348,
          16.28815460205078,
          16.197599411010742,
          16.071083068847656,
          15.734992027282715,
          14.628825187683105,
          15.186117172241211,
          15.706803321838379,
          14.533527374267578,
          14.362629890441895,
          16.136598587036133,
          15.715720176696777,
          15.213749885559082
         ],
         "yaxis": "y"
        },
        {
         "hovertemplate": "<b>%{hovertext}</b><br><br>Conformation Clusters=cluster 4<br>x=%{x}<br>y=%{y}<extra></extra>",
         "hovertext": [
          "EX_107.pdb",
          "EX_360.pdb",
          "EX_152.pdb",
          "EX_450.pdb",
          "EX_167.pdb",
          "EX_262.pdb",
          "EX_153.pdb",
          "EX_151.pdb",
          "EX_177.pdb",
          "EX_339.pdb",
          "EX_134.pdb",
          "EX_288.pdb",
          "EX_439.pdb",
          "EX_186.pdb",
          "EX_024.pdb",
          "EX_158.pdb",
          "EX_130.pdb",
          "EX_095.pdb",
          "EX_375.pdb",
          "EX_298.pdb",
          "EX_385.pdb",
          "EX_401.pdb",
          "EX_195.pdb",
          "EX_161.pdb",
          "EX_348.pdb",
          "EX_022.pdb",
          "EX_304.pdb",
          "EX_308.pdb",
          "EX_321.pdb",
          "EX_238.pdb",
          "EX_032.pdb",
          "EX_198.pdb",
          "EX_324.pdb",
          "EX_244.pdb",
          "EX_271.pdb",
          "EX_181.pdb",
          "EX_098.pdb",
          "EX_076.pdb",
          "EX_185.pdb",
          "EX_014.pdb",
          "EX_125.pdb",
          "EX_300.pdb",
          "EX_341.pdb",
          "EX_050.pdb",
          "EX_296.pdb",
          "EX_176.pdb",
          "EX_055.pdb",
          "EX_353.pdb",
          "EX_187.pdb",
          "EX_202.pdb",
          "EX_290.pdb"
         ],
         "legendgroup": "cluster 4",
         "marker": {
          "color": "#FFA15A",
          "symbol": "circle"
         },
         "mode": "markers",
         "name": "cluster 4",
         "orientation": "v",
         "showlegend": true,
         "type": "scatter",
         "x": [
          7.785592555999756,
          8.233250617980957,
          9.36851978302002,
          9.716696739196777,
          9.805286407470703,
          9.567353248596191,
          7.467014312744141,
          7.58717679977417,
          7.476872444152832,
          9.306962966918945,
          9.202569961547852,
          7.803778171539307,
          9.907638549804688,
          9.273686408996582,
          7.737963676452637,
          9.172569274902344,
          7.233757495880127,
          7.653801441192627,
          8.959421157836914,
          9.218964576721191,
          9.132594108581543,
          7.7104597091674805,
          9.287720680236816,
          8.936200141906738,
          9.35366153717041,
          8.663799285888672,
          8.245622634887695,
          9.819465637207031,
          9.329202651977539,
          8.89021110534668,
          7.7937445640563965,
          8.703842163085938,
          7.841997146606445,
          9.258039474487305,
          9.758907318115234,
          9.85568904876709,
          9.02521800994873,
          8.0420503616333,
          7.303586006164551,
          7.0824995040893555,
          9.970468521118164,
          7.379306316375732,
          8.759326934814453,
          8.982780456542969,
          9.98590087890625,
          9.533256530761719,
          7.05797004699707,
          8.776369094848633,
          9.586637496948242,
          8.771056175231934,
          9.976153373718262
         ],
         "xaxis": "x",
         "y": [
          -1.9372884035110474,
          -1.8941059112548828,
          -0.997832179069519,
          -0.28189074993133545,
          -0.673793613910675,
          -0.9156907796859741,
          -1.5129215717315674,
          -1.6078476905822754,
          -1.567908763885498,
          -1.1346532106399536,
          -1.4833444356918335,
          -1.8852264881134033,
          0.009867093525826931,
          -1.1945929527282715,
          -1.9542487859725952,
          -1.8251203298568726,
          -1.7634197473526,
          -1.6978720426559448,
          -1.658958077430725,
          -2.352450370788574,
          -1.4197044372558594,
          -1.791729211807251,
          -2.3363442420959473,
          -1.8708059787750244,
          -0.9632572531700134,
          -2.1020736694335938,
          -1.4796923398971558,
          -0.2551388740539551,
          -1.8349640369415283,
          -2.0475735664367676,
          -1.978785514831543,
          -2.2371675968170166,
          -2.0047590732574463,
          -1.505392074584961,
          -0.458900511264801,
          -0.6917226314544678,
          -1.4973735809326172,
          -2.002929449081421,
          -1.8320319652557373,
          -1.693956971168518,
          -1.0837476253509521,
          -1.7469422817230225,
          -1.79056978225708,
          -1.8942214250564575,
          -0.029468104243278503,
          -0.8536022901535034,
          -1.6872962713241577,
          -1.9779980182647705,
          -0.813241183757782,
          -2.1436262130737305,
          -0.010473649948835373
         ],
         "yaxis": "y"
        },
        {
         "hovertemplate": "<b>%{hovertext}</b><br><br>Conformation Clusters=cluster 5<br>x=%{x}<br>y=%{y}<extra></extra>",
         "hovertext": [
          "EX_021.pdb",
          "EX_404.pdb",
          "EX_090.pdb",
          "EX_057.pdb",
          "EX_067.pdb",
          "EX_171.pdb",
          "EX_101.pdb",
          "EX_028.pdb",
          "EX_013.pdb",
          "EX_268.pdb",
          "EX_075.pdb",
          "EX_172.pdb",
          "EX_200.pdb",
          "EX_190.pdb",
          "EX_122.pdb",
          "EX_135.pdb",
          "EX_294.pdb",
          "EX_U10-008.pdb",
          "EX_100.pdb",
          "EX_144.pdb",
          "EX_403.pdb",
          "EX_237.pdb",
          "EX_096.pdb",
          "EX_U100-008.pdb",
          "EX_197.pdb",
          "EX_398.pdb",
          "EX_227.pdb",
          "EX_411.pdb",
          "EX_269.pdb",
          "EX_175.pdb",
          "EX_U10-001.pdb",
          "EX_371.pdb",
          "EX_025.pdb",
          "EX_045.pdb",
          "EX_079.pdb",
          "EX_127.pdb",
          "EX_031.pdb",
          "EX_U10-004.pdb",
          "EX_208.pdb",
          "EX_226.pdb"
         ],
         "legendgroup": "cluster 5",
         "marker": {
          "color": "#19d3f3",
          "symbol": "circle"
         },
         "mode": "markers",
         "name": "cluster 5",
         "orientation": "v",
         "showlegend": true,
         "type": "scatter",
         "x": [
          10.953357696533203,
          9.887041091918945,
          9.679877281188965,
          10.884961128234863,
          10.263781547546387,
          10.523551940917969,
          10.551468849182129,
          9.528820991516113,
          10.315991401672363,
          10.716148376464844,
          9.908282279968262,
          10.308944702148438,
          10.868712425231934,
          10.888419151306152,
          10.685127258300781,
          10.244009971618652,
          10.580474853515625,
          9.60042667388916,
          10.13038158416748,
          9.588032722473145,
          10.274219512939453,
          10.303079605102539,
          9.515029907226562,
          9.502704620361328,
          10.383442878723145,
          9.570534706115723,
          10.29333782196045,
          10.221796035766602,
          9.86451530456543,
          11.04271125793457,
          10.090760231018066,
          9.47228717803955,
          10.767438888549805,
          10.936978340148926,
          10.155091285705566,
          10.343145370483398,
          10.60856819152832,
          10.392905235290527,
          10.442111015319824,
          10.425777435302734
         ],
         "xaxis": "x",
         "y": [
          -1.9667552709579468,
          -3.4940245151519775,
          -2.6246726512908936,
          -1.9951252937316895,
          -1.5444729328155518,
          -2.6347265243530273,
          -1.5524362325668335,
          -3.733616590499878,
          -2.965141534805298,
          -2.2327613830566406,
          -1.7286512851715088,
          -2.905468225479126,
          -2.0283737182617188,
          -1.9943259954452515,
          -2.2609949111938477,
          -3.0952165126800537,
          -1.7440013885498047,
          -3.6863765716552734,
          -3.2956089973449707,
          -3.651798963546753,
          -2.9194841384887695,
          -1.6720304489135742,
          -3.75207781791687,
          -3.745760440826416,
          -2.3526484966278076,
          -3.6760313510894775,
          -3.0702030658721924,
          -3.1896555423736572,
          -2.6892261505126953,
          -1.749311923980713,
          -2.7908945083618164,
          -3.7303318977355957,
          -2.0395941734313965,
          -1.918595552444458,
          -3.279360294342041,
          -2.922152519226074,
          -2.328864812850952,
          -3.0341298580169678,
          -1.6928987503051758,
          -1.6755766868591309
         ],
         "yaxis": "y"
        },
        {
         "hovertemplate": "<b>%{hovertext}</b><br><br>Conformation Clusters=cluster 6<br>x=%{x}<br>y=%{y}<extra></extra>",
         "hovertext": [
          "EX_000.pdb",
          "EX_U100-005.pdb",
          "EX_U100-000.pdb",
          "EX_U100-007.pdb",
          "EX_U100-003.pdb",
          "EX_U100-001.pdb",
          "EX_U10-000.pdb",
          "EX_232.pdb",
          "EX_U10-003.pdb",
          "EX_U100-006.pdb",
          "EX_U100-009.pdb",
          "EX_U10-006.pdb",
          "EX_U100-002.pdb",
          "EX_U10-002.pdb",
          "EX_U100-004.pdb",
          "EX_338.pdb"
         ],
         "legendgroup": "cluster 6",
         "marker": {
          "color": "#FF6692",
          "symbol": "circle"
         },
         "mode": "markers",
         "name": "cluster 6",
         "orientation": "v",
         "showlegend": true,
         "type": "scatter",
         "x": [
          5.898241996765137,
          5.681024074554443,
          5.705226898193359,
          5.912405967712402,
          5.73931884765625,
          5.7946648597717285,
          5.934020519256592,
          6.036304473876953,
          5.780948162078857,
          5.780930042266846,
          5.721651554107666,
          5.786736965179443,
          5.678671836853027,
          6.015817165374756,
          5.622780799865723,
          6.037615776062012
         ],
         "xaxis": "x",
         "y": [
          -0.1479494422674179,
          0.44384196400642395,
          0.5346570014953613,
          -0.19380269944667816,
          0.37217167019844055,
          0.6587708592414856,
          -0.24011211097240448,
          -0.3757258653640747,
          0.6945255398750305,
          0.7463943958282471,
          0.4096585214138031,
          0.07796096056699753,
          0.5069176554679871,
          -0.3531394898891449,
          0.4221339225769043,
          -0.3689872920513153
         ],
         "yaxis": "y"
        }
       ],
       "layout": {
        "legend": {
         "title": {
          "text": "Conformation Clusters"
         },
         "tracegroupgap": 0
        },
        "template": {
         "data": {
          "bar": [
           {
            "error_x": {
             "color": "#2a3f5f"
            },
            "error_y": {
             "color": "#2a3f5f"
            },
            "marker": {
             "line": {
              "color": "#E5ECF6",
              "width": 0.5
             },
             "pattern": {
              "fillmode": "overlay",
              "size": 10,
              "solidity": 0.2
             }
            },
            "type": "bar"
           }
          ],
          "barpolar": [
           {
            "marker": {
             "line": {
              "color": "#E5ECF6",
              "width": 0.5
             },
             "pattern": {
              "fillmode": "overlay",
              "size": 10,
              "solidity": 0.2
             }
            },
            "type": "barpolar"
           }
          ],
          "carpet": [
           {
            "aaxis": {
             "endlinecolor": "#2a3f5f",
             "gridcolor": "white",
             "linecolor": "white",
             "minorgridcolor": "white",
             "startlinecolor": "#2a3f5f"
            },
            "baxis": {
             "endlinecolor": "#2a3f5f",
             "gridcolor": "white",
             "linecolor": "white",
             "minorgridcolor": "white",
             "startlinecolor": "#2a3f5f"
            },
            "type": "carpet"
           }
          ],
          "choropleth": [
           {
            "colorbar": {
             "outlinewidth": 0,
             "ticks": ""
            },
            "type": "choropleth"
           }
          ],
          "contour": [
           {
            "colorbar": {
             "outlinewidth": 0,
             "ticks": ""
            },
            "colorscale": [
             [
              0,
              "#0d0887"
             ],
             [
              0.1111111111111111,
              "#46039f"
             ],
             [
              0.2222222222222222,
              "#7201a8"
             ],
             [
              0.3333333333333333,
              "#9c179e"
             ],
             [
              0.4444444444444444,
              "#bd3786"
             ],
             [
              0.5555555555555556,
              "#d8576b"
             ],
             [
              0.6666666666666666,
              "#ed7953"
             ],
             [
              0.7777777777777778,
              "#fb9f3a"
             ],
             [
              0.8888888888888888,
              "#fdca26"
             ],
             [
              1,
              "#f0f921"
             ]
            ],
            "type": "contour"
           }
          ],
          "contourcarpet": [
           {
            "colorbar": {
             "outlinewidth": 0,
             "ticks": ""
            },
            "type": "contourcarpet"
           }
          ],
          "heatmap": [
           {
            "colorbar": {
             "outlinewidth": 0,
             "ticks": ""
            },
            "colorscale": [
             [
              0,
              "#0d0887"
             ],
             [
              0.1111111111111111,
              "#46039f"
             ],
             [
              0.2222222222222222,
              "#7201a8"
             ],
             [
              0.3333333333333333,
              "#9c179e"
             ],
             [
              0.4444444444444444,
              "#bd3786"
             ],
             [
              0.5555555555555556,
              "#d8576b"
             ],
             [
              0.6666666666666666,
              "#ed7953"
             ],
             [
              0.7777777777777778,
              "#fb9f3a"
             ],
             [
              0.8888888888888888,
              "#fdca26"
             ],
             [
              1,
              "#f0f921"
             ]
            ],
            "type": "heatmap"
           }
          ],
          "heatmapgl": [
           {
            "colorbar": {
             "outlinewidth": 0,
             "ticks": ""
            },
            "colorscale": [
             [
              0,
              "#0d0887"
             ],
             [
              0.1111111111111111,
              "#46039f"
             ],
             [
              0.2222222222222222,
              "#7201a8"
             ],
             [
              0.3333333333333333,
              "#9c179e"
             ],
             [
              0.4444444444444444,
              "#bd3786"
             ],
             [
              0.5555555555555556,
              "#d8576b"
             ],
             [
              0.6666666666666666,
              "#ed7953"
             ],
             [
              0.7777777777777778,
              "#fb9f3a"
             ],
             [
              0.8888888888888888,
              "#fdca26"
             ],
             [
              1,
              "#f0f921"
             ]
            ],
            "type": "heatmapgl"
           }
          ],
          "histogram": [
           {
            "marker": {
             "pattern": {
              "fillmode": "overlay",
              "size": 10,
              "solidity": 0.2
             }
            },
            "type": "histogram"
           }
          ],
          "histogram2d": [
           {
            "colorbar": {
             "outlinewidth": 0,
             "ticks": ""
            },
            "colorscale": [
             [
              0,
              "#0d0887"
             ],
             [
              0.1111111111111111,
              "#46039f"
             ],
             [
              0.2222222222222222,
              "#7201a8"
             ],
             [
              0.3333333333333333,
              "#9c179e"
             ],
             [
              0.4444444444444444,
              "#bd3786"
             ],
             [
              0.5555555555555556,
              "#d8576b"
             ],
             [
              0.6666666666666666,
              "#ed7953"
             ],
             [
              0.7777777777777778,
              "#fb9f3a"
             ],
             [
              0.8888888888888888,
              "#fdca26"
             ],
             [
              1,
              "#f0f921"
             ]
            ],
            "type": "histogram2d"
           }
          ],
          "histogram2dcontour": [
           {
            "colorbar": {
             "outlinewidth": 0,
             "ticks": ""
            },
            "colorscale": [
             [
              0,
              "#0d0887"
             ],
             [
              0.1111111111111111,
              "#46039f"
             ],
             [
              0.2222222222222222,
              "#7201a8"
             ],
             [
              0.3333333333333333,
              "#9c179e"
             ],
             [
              0.4444444444444444,
              "#bd3786"
             ],
             [
              0.5555555555555556,
              "#d8576b"
             ],
             [
              0.6666666666666666,
              "#ed7953"
             ],
             [
              0.7777777777777778,
              "#fb9f3a"
             ],
             [
              0.8888888888888888,
              "#fdca26"
             ],
             [
              1,
              "#f0f921"
             ]
            ],
            "type": "histogram2dcontour"
           }
          ],
          "mesh3d": [
           {
            "colorbar": {
             "outlinewidth": 0,
             "ticks": ""
            },
            "type": "mesh3d"
           }
          ],
          "parcoords": [
           {
            "line": {
             "colorbar": {
              "outlinewidth": 0,
              "ticks": ""
             }
            },
            "type": "parcoords"
           }
          ],
          "pie": [
           {
            "automargin": true,
            "type": "pie"
           }
          ],
          "scatter": [
           {
            "fillpattern": {
             "fillmode": "overlay",
             "size": 10,
             "solidity": 0.2
            },
            "type": "scatter"
           }
          ],
          "scatter3d": [
           {
            "line": {
             "colorbar": {
              "outlinewidth": 0,
              "ticks": ""
             }
            },
            "marker": {
             "colorbar": {
              "outlinewidth": 0,
              "ticks": ""
             }
            },
            "type": "scatter3d"
           }
          ],
          "scattercarpet": [
           {
            "marker": {
             "colorbar": {
              "outlinewidth": 0,
              "ticks": ""
             }
            },
            "type": "scattercarpet"
           }
          ],
          "scattergeo": [
           {
            "marker": {
             "colorbar": {
              "outlinewidth": 0,
              "ticks": ""
             }
            },
            "type": "scattergeo"
           }
          ],
          "scattergl": [
           {
            "marker": {
             "colorbar": {
              "outlinewidth": 0,
              "ticks": ""
             }
            },
            "type": "scattergl"
           }
          ],
          "scattermapbox": [
           {
            "marker": {
             "colorbar": {
              "outlinewidth": 0,
              "ticks": ""
             }
            },
            "type": "scattermapbox"
           }
          ],
          "scatterpolar": [
           {
            "marker": {
             "colorbar": {
              "outlinewidth": 0,
              "ticks": ""
             }
            },
            "type": "scatterpolar"
           }
          ],
          "scatterpolargl": [
           {
            "marker": {
             "colorbar": {
              "outlinewidth": 0,
              "ticks": ""
             }
            },
            "type": "scatterpolargl"
           }
          ],
          "scatterternary": [
           {
            "marker": {
             "colorbar": {
              "outlinewidth": 0,
              "ticks": ""
             }
            },
            "type": "scatterternary"
           }
          ],
          "surface": [
           {
            "colorbar": {
             "outlinewidth": 0,
             "ticks": ""
            },
            "colorscale": [
             [
              0,
              "#0d0887"
             ],
             [
              0.1111111111111111,
              "#46039f"
             ],
             [
              0.2222222222222222,
              "#7201a8"
             ],
             [
              0.3333333333333333,
              "#9c179e"
             ],
             [
              0.4444444444444444,
              "#bd3786"
             ],
             [
              0.5555555555555556,
              "#d8576b"
             ],
             [
              0.6666666666666666,
              "#ed7953"
             ],
             [
              0.7777777777777778,
              "#fb9f3a"
             ],
             [
              0.8888888888888888,
              "#fdca26"
             ],
             [
              1,
              "#f0f921"
             ]
            ],
            "type": "surface"
           }
          ],
          "table": [
           {
            "cells": {
             "fill": {
              "color": "#EBF0F8"
             },
             "line": {
              "color": "white"
             }
            },
            "header": {
             "fill": {
              "color": "#C8D4E3"
             },
             "line": {
              "color": "white"
             }
            },
            "type": "table"
           }
          ]
         },
         "layout": {
          "annotationdefaults": {
           "arrowcolor": "#2a3f5f",
           "arrowhead": 0,
           "arrowwidth": 1
          },
          "autotypenumbers": "strict",
          "coloraxis": {
           "colorbar": {
            "outlinewidth": 0,
            "ticks": ""
           }
          },
          "colorscale": {
           "diverging": [
            [
             0,
             "#8e0152"
            ],
            [
             0.1,
             "#c51b7d"
            ],
            [
             0.2,
             "#de77ae"
            ],
            [
             0.3,
             "#f1b6da"
            ],
            [
             0.4,
             "#fde0ef"
            ],
            [
             0.5,
             "#f7f7f7"
            ],
            [
             0.6,
             "#e6f5d0"
            ],
            [
             0.7,
             "#b8e186"
            ],
            [
             0.8,
             "#7fbc41"
            ],
            [
             0.9,
             "#4d9221"
            ],
            [
             1,
             "#276419"
            ]
           ],
           "sequential": [
            [
             0,
             "#0d0887"
            ],
            [
             0.1111111111111111,
             "#46039f"
            ],
            [
             0.2222222222222222,
             "#7201a8"
            ],
            [
             0.3333333333333333,
             "#9c179e"
            ],
            [
             0.4444444444444444,
             "#bd3786"
            ],
            [
             0.5555555555555556,
             "#d8576b"
            ],
            [
             0.6666666666666666,
             "#ed7953"
            ],
            [
             0.7777777777777778,
             "#fb9f3a"
            ],
            [
             0.8888888888888888,
             "#fdca26"
            ],
            [
             1,
             "#f0f921"
            ]
           ],
           "sequentialminus": [
            [
             0,
             "#0d0887"
            ],
            [
             0.1111111111111111,
             "#46039f"
            ],
            [
             0.2222222222222222,
             "#7201a8"
            ],
            [
             0.3333333333333333,
             "#9c179e"
            ],
            [
             0.4444444444444444,
             "#bd3786"
            ],
            [
             0.5555555555555556,
             "#d8576b"
            ],
            [
             0.6666666666666666,
             "#ed7953"
            ],
            [
             0.7777777777777778,
             "#fb9f3a"
            ],
            [
             0.8888888888888888,
             "#fdca26"
            ],
            [
             1,
             "#f0f921"
            ]
           ]
          },
          "colorway": [
           "#636efa",
           "#EF553B",
           "#00cc96",
           "#ab63fa",
           "#FFA15A",
           "#19d3f3",
           "#FF6692",
           "#B6E880",
           "#FF97FF",
           "#FECB52"
          ],
          "font": {
           "color": "#2a3f5f"
          },
          "geo": {
           "bgcolor": "white",
           "lakecolor": "white",
           "landcolor": "#E5ECF6",
           "showlakes": true,
           "showland": true,
           "subunitcolor": "white"
          },
          "hoverlabel": {
           "align": "left"
          },
          "hovermode": "closest",
          "mapbox": {
           "style": "light"
          },
          "paper_bgcolor": "white",
          "plot_bgcolor": "#E5ECF6",
          "polar": {
           "angularaxis": {
            "gridcolor": "white",
            "linecolor": "white",
            "ticks": ""
           },
           "bgcolor": "#E5ECF6",
           "radialaxis": {
            "gridcolor": "white",
            "linecolor": "white",
            "ticks": ""
           }
          },
          "scene": {
           "xaxis": {
            "backgroundcolor": "#E5ECF6",
            "gridcolor": "white",
            "gridwidth": 2,
            "linecolor": "white",
            "showbackground": true,
            "ticks": "",
            "zerolinecolor": "white"
           },
           "yaxis": {
            "backgroundcolor": "#E5ECF6",
            "gridcolor": "white",
            "gridwidth": 2,
            "linecolor": "white",
            "showbackground": true,
            "ticks": "",
            "zerolinecolor": "white"
           },
           "zaxis": {
            "backgroundcolor": "#E5ECF6",
            "gridcolor": "white",
            "gridwidth": 2,
            "linecolor": "white",
            "showbackground": true,
            "ticks": "",
            "zerolinecolor": "white"
           }
          },
          "shapedefaults": {
           "line": {
            "color": "#2a3f5f"
           }
          },
          "ternary": {
           "aaxis": {
            "gridcolor": "white",
            "linecolor": "white",
            "ticks": ""
           },
           "baxis": {
            "gridcolor": "white",
            "linecolor": "white",
            "ticks": ""
           },
           "bgcolor": "#E5ECF6",
           "caxis": {
            "gridcolor": "white",
            "linecolor": "white",
            "ticks": ""
           }
          },
          "title": {
           "x": 0.05
          },
          "xaxis": {
           "automargin": true,
           "gridcolor": "white",
           "linecolor": "white",
           "ticks": "",
           "title": {
            "standoff": 15
           },
           "zerolinecolor": "white",
           "zerolinewidth": 2
          },
          "yaxis": {
           "automargin": true,
           "gridcolor": "white",
           "linecolor": "white",
           "ticks": "",
           "title": {
            "standoff": 15
           },
           "zerolinecolor": "white",
           "zerolinewidth": 2
          }
         }
        },
        "title": {
         "text": "ClusterProt: Protein Clustering by Structural Similarity"
        },
        "xaxis": {
         "anchor": "y",
         "domain": [
          0,
          1
         ],
         "title": {
          "text": ""
         }
        },
        "yaxis": {
         "anchor": "x",
         "domain": [
          0,
          1
         ],
         "title": {
          "text": ""
         }
        }
       }
      }
     },
     "metadata": {},
     "output_type": "display_data"
    }
   ],
   "source": [
    "create_figure_plotly(clusters)"
   ]
  },
  {
   "cell_type": "markdown",
   "metadata": {},
   "source": [
    "You can also use the **Neurosnap Platform** for a no-code interface to utilize the following tools:\n",
    "\n",
    "- **ClusterProt**: <https://neurosnap.ai/service/ClusterProt>\n",
    "- **AFcluster**: <https://neurosnap.ai/service/AFcluster>\n",
    "\n",
    "Additionally, you can use the `NeurosnapAPI` class's `.submit_job` method to submit jobs programmatically.\n",
    "\n",
    "For a more thorough tutorial on the `NeurosnapAPI`, refer to the [Tutorial Notebook](https://github.com/NeurosnapInc/neurosnap/blob/main/example_notebooks/api.ipynb).\n"
   ]
  }
 ],
 "metadata": {
  "kernelspec": {
   "display_name": "base",
   "language": "python",
   "name": "python3"
  },
  "language_info": {
   "codemirror_mode": {
    "name": "ipython",
    "version": 3
   },
   "file_extension": ".py",
   "mimetype": "text/x-python",
   "name": "python",
   "nbconvert_exporter": "python",
   "pygments_lexer": "ipython3",
   "version": "3.12.5"
  }
 },
 "nbformat": 4,
 "nbformat_minor": 2
}
