# @title 🔥 Submit Sequences to TemStaPro for Thermostability Prediction

# Prepare the data for the API
multipart_data = MultipartEncoder(
  fields={
    # Pass all sequences to the API
    "Input Sequences": json.dumps({"aa": proteins, "dna": {}, "rna": {}}),
  }
)

# Make the API rSequst
r = requests.post(
  "https://neurosnap.ai/api/job/submit/TemStaPro Protein Thermostability Prediction?note=proteins_from_csv",
  headers={
    "X-API-KEY": API_KEY,
    "Content-Type": multipart_data.content_type,
  },
  data=multipart_data,
)

# Get the response
temstapro_job_id = r.json()
print("Job submitted. Job ID:", temstapro_job_id)
