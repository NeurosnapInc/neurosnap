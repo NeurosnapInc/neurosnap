{
 "cells": [
  {
   "cell_type": "markdown",
   "metadata": {},
   "source": [
    "[![Neurosnap Header](https://raw.githubusercontent.com/NeurosnapInc/neurosnap/refs/heads/main/assets/header.webp)](https://neurosnap.ai/)\n",
    "\n",
    "In this tutorial, we will explore how to use the `clusterprot` module from the [Neurosnap tools package](https://github.com/NeurosnapInc/neurosnap). The focus will be on applying protein clustering algorithms to identify meaningful patterns within protein datasets. Additionally, we will walk through the process of visualizing the clustering results, providing insights into the structural relationships between proteins.\n",
    "\n",
    "[![Open In Colab](https://colab.research.google.com/assets/colab-badge.svg)](https://colab.research.google.com/github/NeurosnapInc/neurosnap/blob/main/example_notebooks/ClusterProt.ipynb)"
   ]
  },
  {
   "cell_type": "markdown",
   "metadata": {},
   "source": [
    "#### Part 0. Installing Dependencies on Colab"
   ]
  },
  {
   "cell_type": "code",
   "execution_count": 1,
   "metadata": {},
   "outputs": [],
   "source": [
    "import subprocess\n",
    "import sys\n",
    "\n",
    "if 'google.colab' in sys.modules:\n",
    "    subprocess.run(\"pip install -U --no-cache-dir git+https://github.com/NeurosnapInc/neurosnap.git\", shell=True, check=True, executable=\"/bin/bash\")\n",
    "    subprocess.run(\"pip install umap_learn\", shell=True, check=True, executable=\"/bin/bash\")"
   ]
  },
  {
   "cell_type": "markdown",
   "metadata": {},
   "source": [
    "#### Part 1. Clustering Proteins with `ClusterProt`\n",
    "For the context of the tutorial, we are going to use the results of a demo run of [**Neurosnap AFcluster service**](https://neurosnap.ai/service/AFcluster), which predicts alternative protein conformations.\n",
    "\n",
    "**AFcluster** is a method that extends the capabilities of AlphaFold2 by enabling the prediction of multiple conformational states of proteins. While AlphaFold2 excels at predicting single structures, many proteins exist in several conformational substates critical to their biological function. AFcluster works by clustering a multiple-sequence alignment based on sequence similarity, which allows AlphaFold2 to sample alternative protein conformations with high confidence. The method has been used to investigate evolutionary distributions and predict structure variations across protein families. For instance, AFcluster successfully predicted alternative states of the metamorphic protein KaiB, which were validated through nuclear magnetic resonance spectroscopy. AFcluster also demonstrated sensitivity to point mutations, accurately predicting conformational flips in mutated proteins, thus revealing potential applications in understanding protein energy landscapes and biological function. (for more information, see the [AFcluster Paper](https://www.nature.com/articles/s41586-023-06832-9))\n"
   ]
  },
  {
   "cell_type": "markdown",
   "metadata": {},
   "source": [
    "##### Part 1.1. using the neurosnap `api` module to connect to the neurosnap api and download the results\n",
    "\n",
    "The neurosnap `api` module allows you to connect to the neurosnap platform using your api key. When you create an instance of the `NeurosnapAPI` class, it automatically checks the validity of your key by making a request to the neurosnap api. If the key is invalid, an error will be raised, prompting you to verify your credentials. This authentication step is crucial for accessing the platform’s features, such as submitting jobs and retrieving data. \n",
    "\n",
    "You can generate and manage your api keys by visiting the [neurosnap overview page](https://neurosnap.ai/overview) under the \"api Key\" section.\n",
    "\n",
    "For this tutorial, we will use the results of a demo run of **AFcluster** on the following sequence:\n",
    "\n",
    "**LCLYTHIGRNIYYGSYLYSETWNTGIMLLLITMATAFMGYVLPWGQMSFWGAT**\n",
    "\n",
    "\n",
    "results page: <https://neurosnap.ai/job/670975de6d01c88797edc749?share=670d746e4ed448ec1bd31467>\n"
   ]
  },
  {
   "cell_type": "code",
   "execution_count": 2,
   "metadata": {},
   "outputs": [
    {
     "name": "stderr",
     "output_type": "stream",
     "text": [
      "\u001b[38;5;295m[*]\u001b[0m ⚠️ NEVER SHARE YOUR API KEY WITH ANY UNAUTHORIZED PARTIES ⚠️\n",
      "\u001b[38;5;295m[*]\u001b[0m Successfully connected to the Neurosnap API.\n",
      " - For information visit https://neurosnap.ai/blog/post/66b00dacec3f2aa9b4be703a\n",
      " - For support visit https://neurosnap.ai/support\n",
      " - For bug reports visit https://github.com/NeurosnapInc/neurosnap\n"
     ]
    }
   ],
   "source": [
    "import os\n",
    "import zipfile\n",
    "\n",
    "from neurosnap.algos.clusterprot import *\n",
    "from neurosnap.api import *\n",
    "\n",
    "api_key = os.environ.get('ns_key')\n",
    "api = NeurosnapAPI(api_key) # replace with your API key"
   ]
  },
  {
   "cell_type": "code",
   "execution_count": 3,
   "metadata": {},
   "outputs": [
    {
     "data": {
      "text/plain": [
       "{'config': {'Animation Projection Algorithm': 'UMAP',\n",
       "  'Input Sequence': 'LCLYTHIGRNIYYGSYLYSETWNTGIMLLLITMATAFMGYVLPWGQMSFWGAT',\n",
       "  'Multiple Sequence Alignment': ''},\n",
       " 'in': [],\n",
       " 'out': [['AFcluster Structures.zip', '3.56 MB'],\n",
       "  ['animation.gif', '17.87 MB'],\n",
       "  ['results.json', '72.62 KB']]}"
      ]
     },
     "execution_count": 3,
     "metadata": {},
     "output_type": "execute_result"
    }
   ],
   "source": [
    "api.get_job_data(job_id=\"670975de6d01c88797edc749\", share_id=\"670d746e4ed448ec1bd31467\") # get the job data (config, input files, output files)"
   ]
  },
  {
   "cell_type": "code",
   "execution_count": 4,
   "metadata": {},
   "outputs": [
    {
     "name": "stderr",
     "output_type": "stream",
     "text": [
      "\u001b[38;5;295m[*]\u001b[0m File saved to ./AFcluster Structures.zip\n"
     ]
    }
   ],
   "source": [
    "# Download the AFcluster structures from the job\n",
    "file_path = api.get_job_file(\n",
    "    job_id=\"670975de6d01c88797edc749\",   # Job ID for the AFcluster run\n",
    "    file_type=\"out\",                     # Specify the type of file (output)\n",
    "    file_name=\"AFcluster Structures.zip\", # Name of the file to download\n",
    "    save_path=\"./AFcluster Structures.zip\", # Local path to save the file\n",
    "    share_id=\"670d746e4ed448ec1bd31467\"   # Share ID\n",
    ")"
   ]
  },
  {
   "cell_type": "code",
   "execution_count": 5,
   "metadata": {},
   "outputs": [],
   "source": [
    "# unzip AFcluster Structures.zip\n",
    "with zipfile.ZipFile('./AFcluster Structures.zip', 'r') as zip_ref:\n",
    "    zip_ref.extractall('./AFcluster Structures')"
   ]
  },
  {
   "cell_type": "markdown",
   "metadata": {},
   "source": [
    "##### Part 1.2. ClusterProt Algorithm and Function Explanation\n",
    "\n",
    "The `ClusterProt` function implements an algorithm for clustering proteins based on their structural similarity. Here's a breakdown of the algorithm and the function:\n",
    "\n",
    "**Algorithm Overview**\n",
    "\n",
    "1. **Load and Validate Input**: Ensure all protein structures are fully loaded and valid.\n",
    "2. **Compute Distance Matrices**: Calculate distance matrices using alpha carbons of all loaded proteins from selected regions.\n",
    "3. **Flatten Distance Matrices**: Get the flattened upper triangle of the distance matrices, excluding the diagonal.\n",
    "4. **Align Proteins**: Align all proteins to a reference protein (optional, but useful for analysis like animation).\n",
    "5. **Create 2D Projection**: Use UMAP (Uniform Manifold Approximation and Projection) to create a 2D projection of the protein structures.\n",
    "6. **Cluster Proteins**: Apply DBSCAN (Density-Based Spatial Clustering of Applications with Noise) to cluster the 2D projections.\n",
    "7. **Create 1D Projection**: Generate a 1D projection using either UMAP or PCA (Principal Component Analysis) for organizing proteins one-dimensionally (optional, but useful for visualization).\n",
    "\n",
    "**Function Parameters**\n",
    "\n",
    "- `proteins`: List of proteins to cluster (can be Protein objects or file paths)\n",
    "- `model`: Model ID to use (must be consistent across all structures)\n",
    "- `chain`: Chain ID to use (must be consistent across all structures, optional)\n",
    "- `umap_n_neighbors`: The `n_neighbors` value for UMAP (0 for automatic calculation).\n",
    "- `proj_1d_algo`: Algorithm for 1D projection (\"umap\" or \"pca\")\n",
    "- `dbscan_eps`: The `eps` value for DBSCAN (0 for automatic calculation).\n",
    "- `dbscan_min_samples`: The `min_samples` value for DBSCAN (0 for automatic calculation).\n",
    "- `eps_scale_factor`: Scaling factor for DBSCAN's `eps` value.\n",
    "\n",
    "Now let's run the algorithm on the **AFcluster** structures by creating a list of file paths to the `.pdb` files. These paths will allow us to feed the structures into the **ClusterProt** algorithm for further analysis:\n"
   ]
  },
  {
   "cell_type": "code",
   "execution_count": 6,
   "metadata": {},
   "outputs": [],
   "source": [
    "# List all files in the AFcluster Structures directory\n",
    "files = os.listdir('./AFcluster Structures')\n",
    "\n",
    "# create a list of paths to the .pdb files\n",
    "pdb_paths = [\n",
    "    f\"./AFcluster Structures/{file_name}\" \n",
    "    for file_name in files if file_name.endswith('.pdb')\n",
    "]"
   ]
  },
  {
   "cell_type": "code",
   "execution_count": 7,
   "metadata": {},
   "outputs": [
    {
     "name": "stderr",
     "output_type": "stream",
     "text": [
      "\u001b[38;5;47m[+]\u001b[0m Loading 478 for clustering\n",
      "\u001b[38;5;47m[+]\u001b[0m Clustering 478 proteins\n",
      "\u001b[38;5;47m[+]\u001b[0m Computing distance matrices\n",
      "\u001b[38;5;47m[+]\u001b[0m Aligning all proteins\n",
      "\u001b[38;5;47m[+]\u001b[0m Creating 2D projection using UMAP (n_neighbors=5)\n",
      "\u001b[38;5;47m[+]\u001b[0m Creating cluster labels using DBSCAN\n",
      "\u001b[38;5;47m[+]\u001b[0m Computing 1D projection for animation\n"
     ]
    }
   ],
   "source": [
    "clusters = ClusterProt(pdb_paths, proj_1d_algo=\"umap\") # you can also specify the model and chain"
   ]
  },
  {
   "cell_type": "markdown",
   "metadata": {},
   "source": [
    "#### Part 2. Visualize Results\n",
    "Now let's visualize the results using two functions: `animate_results` and `create_figure_plotly`.\n",
    "\n",
    "1. **`animate_results(cp_results, animation_fpath=\"cluster_prot.gif\")`**:\n",
    "   This function generates an animation that visualizes the aligned proteins and their 1D projections from the **ClusterProt** results. The proteins are sorted by their 1D projections, and for each protein, a pseudo-3D plot is created and added to the animation. The final animation is saved as a GIF file at the specified path.\n",
    "   \n",
    "   - **Parameters**:\n",
    "     - `cp_results`: A dictionary containing the results from the ClusterProt run, including protein structures and their projections.\n",
    "     - `animation_fpath`: The file path where the animation will be saved.\n",
    "   \n",
    "\n",
    "2. **`create_figure_plotly(cp_results)`**:\n",
    "   This function creates an interactive scatter plot of the 2D projections from the ClusterProt results using the Plotly Express library. Each point represents a protein, with colors indicating the conformation clusters. Hovering over the points reveals additional information about each protein.\n",
    "   \n",
    "   - **Parameters**:\n",
    "     - `cp_results`: A dictionary containing the results from the ClusterProt run, including the 2D projections and cluster labels.\n",
    "   \n",
    "\n",
    "Now let's visualize the results:"
   ]
  },
  {
   "cell_type": "code",
   "execution_count": 8,
   "metadata": {},
   "outputs": [
    {
     "name": "stderr",
     "output_type": "stream",
     "text": [
      "\u001b[38;5;47m[+]\u001b[0m Drawing animation frames\n"
     ]
    },
    {
     "name": "stdout",
     "output_type": "stream",
     "text": [
      "Creating animation frames for 478/478 proteins\n"
     ]
    },
    {
     "data": {
      "image/png": "[encoded data removed]",
      "text/plain": [
       "<Figure size 640x480 with 1 Axes>"
      ]
     },
     "metadata": {},
     "output_type": "display_data"
    }
   ],
   "source": [
    "animate_results(clusters, animation_fpath=\"./cluster_prot.gif\") # the animation will be saved in the current directory"
   ]
  },
  {
   "cell_type": "markdown",
   "metadata": {},
   "source": [
    "![Animation](https://github.com/NeurosnapInc/neurosnap/blob/main/assets/cluster_prot.gif?raw=true \"Animation\")\n"
   ]
  },
  {
   "cell_type": "code",
   "execution_count": 9,
   "metadata": {},
   "outputs": [
    {
     "data": {
      "application/vnd.plotly.v1+json": {
       "config": {
        "plotlyServerURL": "https://plot.ly"
       },
       "data": [
        {
         "hovertemplate": "<b>%{hovertext}</b><br><br>Conformation Clusters=cluster 0<br>x=%{x}<br>y=%{y}<extra></extra>",
         "hovertext": [
          "EX_000.pdb",
          "EX_001.pdb",
          "EX_002.pdb",
          "EX_003.pdb",
          "EX_004.pdb",
          "EX_005.pdb",
          "EX_008.pdb",
          "EX_010.pdb",
          "EX_013.pdb",
          "EX_014.pdb",
          "EX_015.pdb",
          "EX_016.pdb",
          "EX_018.pdb",
          "EX_019.pdb",
          "EX_020.pdb",
          "EX_021.pdb",
          "EX_022.pdb",
          "EX_024.pdb",
          "EX_025.pdb",
          "EX_027.pdb",
          "EX_028.pdb",
          "EX_029.pdb",
          "EX_031.pdb",
          "EX_032.pdb",
          "EX_033.pdb",
          "EX_034.pdb",
          "EX_036.pdb",
          "EX_037.pdb",
          "EX_038.pdb",
          "EX_039.pdb",
          "EX_040.pdb",
          "EX_045.pdb",
          "EX_049.pdb",
          "EX_050.pdb",
          "EX_051.pdb",
          "EX_052.pdb",
          "EX_053.pdb",
          "EX_055.pdb",
          "EX_056.pdb",
          "EX_057.pdb",
          "EX_060.pdb",
          "EX_063.pdb",
          "EX_064.pdb",
          "EX_065.pdb",
          "EX_067.pdb",
          "EX_068.pdb",
          "EX_071.pdb",
          "EX_073.pdb",
          "EX_074.pdb",
          "EX_075.pdb",
          "EX_076.pdb",
          "EX_079.pdb",
          "EX_081.pdb",
          "EX_083.pdb",
          "EX_086.pdb",
          "EX_087.pdb",
          "EX_088.pdb",
          "EX_089.pdb",
          "EX_090.pdb",
          "EX_091.pdb",
          "EX_092.pdb",
          "EX_093.pdb",
          "EX_095.pdb",
          "EX_096.pdb",
          "EX_097.pdb",
          "EX_098.pdb",
          "EX_099.pdb",
          "EX_100.pdb",
          "EX_101.pdb",
          "EX_103.pdb",
          "EX_104.pdb",
          "EX_105.pdb",
          "EX_107.pdb",
          "EX_109.pdb",
          "EX_110.pdb",
          "EX_112.pdb",
          "EX_113.pdb",
          "EX_115.pdb",
          "EX_117.pdb",
          "EX_118.pdb",
          "EX_120.pdb",
          "EX_122.pdb",
          "EX_123.pdb",
          "EX_125.pdb",
          "EX_126.pdb",
          "EX_127.pdb",
          "EX_128.pdb",
          "EX_130.pdb",
          "EX_131.pdb",
          "EX_132.pdb",
          "EX_133.pdb",
          "EX_134.pdb",
          "EX_135.pdb",
          "EX_138.pdb",
          "EX_139.pdb",
          "EX_140.pdb",
          "EX_143.pdb",
          "EX_144.pdb",
          "EX_145.pdb",
          "EX_146.pdb",
          "EX_147.pdb",
          "EX_148.pdb",
          "EX_150.pdb",
          "EX_151.pdb",
          "EX_152.pdb",
          "EX_153.pdb",
          "EX_157.pdb",
          "EX_158.pdb",
          "EX_159.pdb",
          "EX_160.pdb",
          "EX_161.pdb",
          "EX_162.pdb",
          "EX_163.pdb",
          "EX_165.pdb",
          "EX_166.pdb",
          "EX_167.pdb",
          "EX_168.pdb",
          "EX_170.pdb",
          "EX_171.pdb",
          "EX_172.pdb",
          "EX_173.pdb",
          "EX_175.pdb",
          "EX_176.pdb",
          "EX_177.pdb",
          "EX_179.pdb",
          "EX_180.pdb",
          "EX_181.pdb",
          "EX_183.pdb",
          "EX_184.pdb",
          "EX_185.pdb",
          "EX_186.pdb",
          "EX_187.pdb",
          "EX_188.pdb",
          "EX_190.pdb",
          "EX_191.pdb",
          "EX_194.pdb",
          "EX_195.pdb",
          "EX_197.pdb",
          "EX_198.pdb",
          "EX_199.pdb",
          "EX_200.pdb",
          "EX_202.pdb",
          "EX_203.pdb",
          "EX_205.pdb",
          "EX_207.pdb",
          "EX_208.pdb",
          "EX_210.pdb",
          "EX_211.pdb",
          "EX_212.pdb",
          "EX_213.pdb",
          "EX_214.pdb",
          "EX_215.pdb",
          "EX_217.pdb",
          "EX_218.pdb",
          "EX_222.pdb",
          "EX_223.pdb",
          "EX_224.pdb",
          "EX_225.pdb",
          "EX_226.pdb",
          "EX_227.pdb",
          "EX_228.pdb",
          "EX_232.pdb",
          "EX_233.pdb",
          "EX_234.pdb",
          "EX_235.pdb",
          "EX_236.pdb",
          "EX_237.pdb",
          "EX_238.pdb",
          "EX_239.pdb",
          "EX_242.pdb",
          "EX_244.pdb",
          "EX_245.pdb",
          "EX_246.pdb",
          "EX_248.pdb",
          "EX_249.pdb",
          "EX_250.pdb",
          "EX_251.pdb",
          "EX_252.pdb",
          "EX_255.pdb",
          "EX_256.pdb",
          "EX_257.pdb",
          "EX_258.pdb",
          "EX_259.pdb",
          "EX_260.pdb",
          "EX_261.pdb",
          "EX_262.pdb",
          "EX_264.pdb",
          "EX_265.pdb",
          "EX_267.pdb",
          "EX_268.pdb",
          "EX_269.pdb",
          "EX_270.pdb",
          "EX_271.pdb",
          "EX_272.pdb",
          "EX_273.pdb",
          "EX_274.pdb",
          "EX_276.pdb",
          "EX_277.pdb",
          "EX_279.pdb",
          "EX_280.pdb",
          "EX_282.pdb",
          "EX_283.pdb",
          "EX_285.pdb",
          "EX_286.pdb",
          "EX_288.pdb",
          "EX_289.pdb",
          "EX_290.pdb",
          "EX_291.pdb",
          "EX_292.pdb",
          "EX_293.pdb",
          "EX_294.pdb",
          "EX_295.pdb",
          "EX_296.pdb",
          "EX_297.pdb",
          "EX_298.pdb",
          "EX_299.pdb",
          "EX_300.pdb",
          "EX_302.pdb",
          "EX_303.pdb",
          "EX_304.pdb",
          "EX_307.pdb",
          "EX_308.pdb",
          "EX_309.pdb",
          "EX_310.pdb",
          "EX_311.pdb",
          "EX_313.pdb",
          "EX_314.pdb",
          "EX_315.pdb",
          "EX_316.pdb",
          "EX_317.pdb",
          "EX_318.pdb",
          "EX_320.pdb",
          "EX_321.pdb",
          "EX_322.pdb",
          "EX_323.pdb",
          "EX_324.pdb",
          "EX_325.pdb",
          "EX_326.pdb",
          "EX_327.pdb",
          "EX_328.pdb",
          "EX_329.pdb",
          "EX_330.pdb",
          "EX_331.pdb",
          "EX_332.pdb",
          "EX_333.pdb",
          "EX_338.pdb",
          "EX_339.pdb",
          "EX_340.pdb",
          "EX_341.pdb",
          "EX_345.pdb",
          "EX_348.pdb",
          "EX_349.pdb",
          "EX_350.pdb",
          "EX_353.pdb",
          "EX_356.pdb",
          "EX_359.pdb",
          "EX_360.pdb",
          "EX_361.pdb",
          "EX_368.pdb",
          "EX_371.pdb",
          "EX_372.pdb",
          "EX_375.pdb",
          "EX_380.pdb",
          "EX_381.pdb",
          "EX_385.pdb",
          "EX_389.pdb",
          "EX_391.pdb",
          "EX_396.pdb",
          "EX_397.pdb",
          "EX_398.pdb",
          "EX_399.pdb",
          "EX_400.pdb",
          "EX_401.pdb",
          "EX_403.pdb",
          "EX_404.pdb",
          "EX_406.pdb",
          "EX_411.pdb",
          "EX_413.pdb",
          "EX_415.pdb",
          "EX_417.pdb",
          "EX_419.pdb",
          "EX_423.pdb",
          "EX_429.pdb",
          "EX_430.pdb",
          "EX_432.pdb",
          "EX_436.pdb",
          "EX_437.pdb",
          "EX_439.pdb",
          "EX_441.pdb",
          "EX_442.pdb",
          "EX_443.pdb",
          "EX_445.pdb",
          "EX_447.pdb",
          "EX_450.pdb",
          "EX_U10-000.pdb",
          "EX_U10-001.pdb",
          "EX_U10-002.pdb",
          "EX_U10-003.pdb",
          "EX_U10-004.pdb",
          "EX_U10-006.pdb",
          "EX_U10-007.pdb",
          "EX_U10-008.pdb",
          "EX_U10-009.pdb",
          "EX_U100-000.pdb",
          "EX_U100-001.pdb",
          "EX_U100-002.pdb",
          "EX_U100-003.pdb",
          "EX_U100-004.pdb",
          "EX_U100-005.pdb",
          "EX_U100-006.pdb",
          "EX_U100-007.pdb",
          "EX_U100-008.pdb",
          "EX_U100-009.pdb"
         ],
         "legendgroup": "cluster 0",
         "marker": {
          "color": "#636efa",
          "symbol": "circle"
         },
         "mode": "markers",
         "name": "cluster 0",
         "orientation": "v",
         "showlegend": true,
         "type": "scatter",
         "x": {
          "bdata": "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",
          "dtype": "f8"
         },
         "xaxis": "x",
         "y": {
          "bdata": "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",
          "dtype": "f8"
         },
         "yaxis": "y"
        },
        {
         "hovertemplate": "<b>%{hovertext}</b><br><br>Conformation Clusters=cluster 1<br>x=%{x}<br>y=%{y}<extra></extra>",
         "hovertext": [
          "EX_006.pdb",
          "EX_007.pdb",
          "EX_009.pdb",
          "EX_011.pdb",
          "EX_012.pdb",
          "EX_017.pdb",
          "EX_023.pdb",
          "EX_026.pdb",
          "EX_030.pdb",
          "EX_035.pdb",
          "EX_041.pdb",
          "EX_042.pdb",
          "EX_043.pdb",
          "EX_044.pdb",
          "EX_046.pdb",
          "EX_047.pdb",
          "EX_048.pdb",
          "EX_054.pdb",
          "EX_058.pdb",
          "EX_059.pdb",
          "EX_061.pdb",
          "EX_062.pdb",
          "EX_066.pdb",
          "EX_069.pdb",
          "EX_070.pdb",
          "EX_072.pdb",
          "EX_077.pdb",
          "EX_078.pdb",
          "EX_080.pdb",
          "EX_082.pdb",
          "EX_084.pdb",
          "EX_085.pdb",
          "EX_094.pdb",
          "EX_102.pdb",
          "EX_106.pdb",
          "EX_108.pdb",
          "EX_111.pdb",
          "EX_114.pdb",
          "EX_116.pdb",
          "EX_119.pdb",
          "EX_121.pdb",
          "EX_124.pdb",
          "EX_129.pdb",
          "EX_136.pdb",
          "EX_137.pdb",
          "EX_141.pdb",
          "EX_142.pdb",
          "EX_149.pdb",
          "EX_154.pdb",
          "EX_155.pdb",
          "EX_156.pdb",
          "EX_164.pdb",
          "EX_169.pdb",
          "EX_174.pdb",
          "EX_178.pdb",
          "EX_182.pdb",
          "EX_189.pdb",
          "EX_192.pdb",
          "EX_193.pdb",
          "EX_196.pdb",
          "EX_201.pdb",
          "EX_204.pdb",
          "EX_206.pdb",
          "EX_209.pdb",
          "EX_216.pdb",
          "EX_219.pdb",
          "EX_220.pdb",
          "EX_221.pdb",
          "EX_229.pdb",
          "EX_230.pdb",
          "EX_231.pdb",
          "EX_240.pdb",
          "EX_241.pdb",
          "EX_243.pdb",
          "EX_247.pdb",
          "EX_253.pdb",
          "EX_254.pdb",
          "EX_263.pdb",
          "EX_266.pdb",
          "EX_275.pdb",
          "EX_278.pdb",
          "EX_281.pdb",
          "EX_284.pdb",
          "EX_287.pdb",
          "EX_301.pdb",
          "EX_305.pdb",
          "EX_306.pdb",
          "EX_312.pdb",
          "EX_319.pdb",
          "EX_334.pdb",
          "EX_335.pdb",
          "EX_336.pdb",
          "EX_337.pdb",
          "EX_342.pdb",
          "EX_343.pdb",
          "EX_344.pdb",
          "EX_346.pdb",
          "EX_347.pdb",
          "EX_351.pdb",
          "EX_352.pdb",
          "EX_354.pdb",
          "EX_355.pdb",
          "EX_357.pdb",
          "EX_358.pdb",
          "EX_362.pdb",
          "EX_363.pdb",
          "EX_364.pdb",
          "EX_365.pdb",
          "EX_366.pdb",
          "EX_367.pdb",
          "EX_369.pdb",
          "EX_370.pdb",
          "EX_373.pdb",
          "EX_374.pdb",
          "EX_376.pdb",
          "EX_377.pdb",
          "EX_378.pdb",
          "EX_379.pdb",
          "EX_382.pdb",
          "EX_383.pdb",
          "EX_384.pdb",
          "EX_386.pdb",
          "EX_387.pdb",
          "EX_388.pdb",
          "EX_390.pdb",
          "EX_392.pdb",
          "EX_393.pdb",
          "EX_394.pdb",
          "EX_395.pdb",
          "EX_402.pdb",
          "EX_405.pdb",
          "EX_407.pdb",
          "EX_408.pdb",
          "EX_409.pdb",
          "EX_410.pdb",
          "EX_412.pdb",
          "EX_414.pdb",
          "EX_416.pdb",
          "EX_418.pdb",
          "EX_420.pdb",
          "EX_421.pdb",
          "EX_422.pdb",
          "EX_424.pdb",
          "EX_425.pdb",
          "EX_426.pdb",
          "EX_427.pdb",
          "EX_428.pdb",
          "EX_431.pdb",
          "EX_433.pdb",
          "EX_434.pdb",
          "EX_435.pdb",
          "EX_438.pdb",
          "EX_440.pdb",
          "EX_444.pdb",
          "EX_446.pdb",
          "EX_448.pdb",
          "EX_449.pdb",
          "EX_451.pdb",
          "EX_452.pdb",
          "EX_453.pdb",
          "EX_454.pdb",
          "EX_455.pdb",
          "EX_456.pdb",
          "EX_457.pdb",
          "EX_U10-005.pdb"
         ],
         "legendgroup": "cluster 1",
         "marker": {
          "color": "#EF553B",
          "symbol": "circle"
         },
         "mode": "markers",
         "name": "cluster 1",
         "orientation": "v",
         "showlegend": true,
         "type": "scatter",
         "x": {
          "bdata": "AAAAoHPWLkAAAADg0U0nQAAAAIAzKS9AAAAA4NxPL0AAAACgGOsoQAAAAKC9eCdAAAAAQHf+JkAAAACgXYojQAAAAADgyCxAAAAA4ESdKEAAAADgFj0qQAAAAKDgry1AAAAAgJB9MEAAAABguNAnQAAAAOBHli1AAAAAYEmFJ0AAAADANUIrQAAAAAD+iiNAAAAAIAB2LEAAAAAACV8lQAAAAEAl8S1AAAAA4HSIJ0AAAACAaUUsQAAAAACaxy5AAAAAIII+LUAAAAAAeJ0tQAAAAAAgcSxAAAAAgCXiKEAAAAAg/NojQAAAAMCDlytAAAAAgCoeLkAAAACgL7MtQAAAAAAoQSVAAAAAQHkNLkAAAABAmX8jQAAAAEC8uCxAAAAAwLHxLEAAAADg11UvQAAAAGCFICtAAAAAYPVWMEAAAADA0mYuQAAAAEDxciRAAAAAAKJCMEAAAABgrHEwQAAAAKCQgSVAAAAAAAu4LkAAAACgEBYvQAAAAIDOUS9AAAAAIBd/L0AAAADAv/EtQAAAAAD30iNAAAAAQKBFLkAAAABAjg0vQAAAAMDOly9AAAAAgKAZJ0AAAABAu8wtQAAAAGAAeDBAAAAAABR5KEAAAADg4n4rQAAAAGB7Ii5AAAAAYMeyKkAAAAAA9AUuQAAAAECRMidAAAAAoHI0L0AAAABgybomQAAAAECcgytAAAAAIGO+KEAAAACg5kUoQAAAAACKUCVAAAAAoFLrKUAAAAAgP6wsQAAAAADRnydAAAAAgBQgKkAAAABAntomQAAAAMDMvypAAAAAoCZdLkAAAADgUIonQAAAAOAUbTBAAAAAgFMRLkAAAADAg4AjQAAAACBpWC1AAAAAAEWQKEAAAACgTHkwQAAAAMBd/CdAAAAAYA0sLkAAAADgqXcnQAAAAMA8US1AAAAAgEZjJ0AAAACAtg8rQAAAAACWiytAAAAAYAZEJ0AAAABAkqYqQAAAAED3FS9AAAAAQLJxI0AAAACAHxcoQAAAAOAjezBAAAAAoOoHK0AAAABAln8pQAAAAECs1iVAAAAAwMh9LUAAAAAgxmctQAAAAMCT3SdAAAAAIOH8LUAAAACAPNgtQAAAAACnWC5AAAAAoNLpLkAAAABgrJguQAAAAIAXeC1AAAAAwChHLUAAAADA3AwtQAAAAIBF2ShAAAAAQLRYK0AAAABAxrQtQAAAAEA61C1AAAAAII2qLUAAAABAs1krQAAAAKC+iSZAAAAAwJoML0AAAAAAEXQoQAAAAEDChyhAAAAAoDSVLUAAAABA1dYtQAAAAIDTsC1AAAAAwNbQKEAAAACgXBgoQAAAACAj4ypAAAAAIFSbLEAAAACAOeMtQAAAACACUitAAAAAQGKPK0AAAAAANjguQAAAAEBxLC5AAAAAoB2KLEAAAACAMswmQAAAAAAuIC5AAAAAYPCFLkAAAACg34MjQAAAAACpXDBAAAAAYFEWLkAAAABAhCYuQAAAAGARrypAAAAAID+ILEAAAAAg2rMsQAAAAEAqwStAAAAAQGSeJkAAAABgt/EoQAAAAOCwviZAAAAAwEtdMEAAAADAP7AoQAAAAABbQjBAAAAAIPOxLUAAAADgvbosQAAAAACdhydAAAAAQBdLKEAAAAAA1mIpQAAAAOCA9S5AAAAAYIJFMEAAAADg0XEjQAAAAOAigiZAAAAAYKJ5KkAAAAAAfSQuQAAAAMC0MSpAAAAAoC1DKUAAAADAIS0qQAAAAKBMGCVA",
          "dtype": "f8"
         },
         "xaxis": "x",
         "y": {
          "bdata": "AAAAYFyvD0AAAABgNbmjPwAAAIBf6BZAAAAAIINTF0AAAABgEvroPwAAAEBLTH6/AAAAgLKy2z8AAAAg9gmkvwAAAOCJLQ9AAAAAwBJn1T8AAABg+xr1PwAAACBCixJAAAAAIKpwHEAAAAAgTNixPwAAAACcMBJAAAAAID0y7z8AAABg4/MCQAAAAGBe1qe/AAAAYO6eCkAAAAAgToF8PwAAAICuAhJAAAAAYB/q6j8AAAAgtDALQAAAAKDzVxZAAAAAQCoHEUAAAADgBIkSQAAAAKBj3AxAAAAAoDc68z8AAADglQCwPwAAAGC/8gNAAAAAwCzCE0AAAACgKq8QQAAAAAAFu4I/AAAAIENxEUAAAADgvMtmvwAAAKCL3wtAAAAAwLjhCEAAAABA8GQXQAAAACAVv/s/AAAAYMiyG0AAAADA/+ERQAAAAIDoiqS/AAAAgGNAG0AAAADA0DUcQAAAACDOUIM/AAAAwHDJEEAAAAAg3L4WQAAAAIDWWRdAAAAAICjZF0AAAAAgBWoQQAAAAEDBPbe/AAAAABU+EUAAAABAhRgWQAAAAOBuFRhAAAAAwByo6D8AAAAAr5IHQAAAAGCiVBxAAAAAIN9e8j8AAACgRF0AQAAAAKC2NgxAAAAAQL1x+z8AAAAAlHoLQAAAAMCkauM/AAAAQHkCF0AAAAAgUnbnPwAAAGAsVf4/AAAAALFF8j8AAADAB4rxPwAAAIC0uHE/AAAAYAIh9j8AAADARGQNQAAAAEAcXe4/AAAAYEUa+D8AAACg0YHlPwAAAKB8kPs/AAAAQPsOEUAAAADgYOWWPwAAACCIHhxAAAAAQPQADUAAAAAAhiONvwAAAOCWQApAAAAAwArq8j8AAABgcV0cQAAAAIAJprY/AAAAgBFZEEAAAAAAaPR2PwAAAODdMg9AAAAAwETf7T8AAACgKscBQAAAAMDS1QBAAAAA4Fat6z8AAABgIwv8PwAAAMAB2BZAAAAAIBoDqr8AAAAgtTC4PwAAAOD3ZxxAAAAAIPg2AkAAAACgZhz2PwAAAODqvqs/AAAA4P/aEkAAAABARRUJQAAAAAC/EtY/AAAAwAtNEUAAAAAALF8HQAAAAOCwcBJAAAAAINMoEEAAAACgpvAOQAAAAGDeKhBAAAAA4PjzDkAAAADAIZoIQAAAAMD2D/Q/AAAAwMLYA0AAAAAAvZsHQAAAAMBwvwdAAAAAYFLCEUAAAACAlmP+PwAAAKB3Bbg/AAAAwAvrFUAAAABgM6vyPwAAAADSz/I/AAAAgKNMB0AAAADguaURQAAAAKBAGgdAAAAAwPGQ7z8AAADgdGO6PwAAACDM7/o/AAAAYAJEC0AAAABg878RQAAAAKCR+Pw/AAAA4NwFA0AAAADg5RoSQAAAACBvWw1AAAAAAFQlDkAAAAAgzejSPwAAAGDS/RNAAAAAwO1VFUAAAAAgZo2kvwAAAOB3zBtAAAAAIMTdE0AAAACgHNwNQAAAAKCN5P0/AAAAIJ+4DUAAAAAA7AgIQAAAAKAf7QRAAAAAgEIjxD8AAADAQSz0PwAAAABcR9k/AAAAgH3LG0AAAADAsyXZPwAAAMBQQxtAAAAAQJ70CEAAAABgPP8MQAAAAGC7OeE/AAAAAMAjzT8AAADgjKP2PwAAAICroBVAAAAAYEtPG0AAAACgspaxvwAAAEBKXtA/AAAAILwz+z8AAACAeRUKQAAAAIBCDPc/AAAAYDSO9T8AAADARxr3PwAAAEAYGYA/",
          "dtype": "f8"
         },
         "yaxis": "y"
        }
       ],
       "layout": {
        "legend": {
         "title": {
          "text": "Conformation Clusters"
         },
         "tracegroupgap": 0
        },
        "template": {
         "data": {
          "bar": [
           {
            "error_x": {
             "color": "#2a3f5f"
            },
            "error_y": {
             "color": "#2a3f5f"
            },
            "marker": {
             "line": {
              "color": "#E5ECF6",
              "width": 0.5
             },
             "pattern": {
              "fillmode": "overlay",
              "size": 10,
              "solidity": 0.2
             }
            },
            "type": "bar"
           }
          ],
          "barpolar": [
           {
            "marker": {
             "line": {
              "color": "#E5ECF6",
              "width": 0.5
             },
             "pattern": {
              "fillmode": "overlay",
              "size": 10,
              "solidity": 0.2
             }
            },
            "type": "barpolar"
           }
          ],
          "carpet": [
           {
            "aaxis": {
             "endlinecolor": "#2a3f5f",
             "gridcolor": "white",
             "linecolor": "white",
             "minorgridcolor": "white",
             "startlinecolor": "#2a3f5f"
            },
            "baxis": {
             "endlinecolor": "#2a3f5f",
             "gridcolor": "white",
             "linecolor": "white",
             "minorgridcolor": "white",
             "startlinecolor": "#2a3f5f"
            },
            "type": "carpet"
           }
          ],
          "choropleth": [
           {
            "colorbar": {
             "outlinewidth": 0,
             "ticks": ""
            },
            "type": "choropleth"
           }
          ],
          "contour": [
           {
            "colorbar": {
             "outlinewidth": 0,
             "ticks": ""
            },
            "colorscale": [
             [
              0,
              "#0d0887"
             ],
             [
              0.1111111111111111,
              "#46039f"
             ],
             [
              0.2222222222222222,
              "#7201a8"
             ],
             [
              0.3333333333333333,
              "#9c179e"
             ],
             [
              0.4444444444444444,
              "#bd3786"
             ],
             [
              0.5555555555555556,
              "#d8576b"
             ],
             [
              0.6666666666666666,
              "#ed7953"
             ],
             [
              0.7777777777777778,
              "#fb9f3a"
             ],
             [
              0.8888888888888888,
              "#fdca26"
             ],
             [
              1,
              "#f0f921"
             ]
            ],
            "type": "contour"
           }
          ],
          "contourcarpet": [
           {
            "colorbar": {
             "outlinewidth": 0,
             "ticks": ""
            },
            "type": "contourcarpet"
           }
          ],
          "heatmap": [
           {
            "colorbar": {
             "outlinewidth": 0,
             "ticks": ""
            },
            "colorscale": [
             [
              0,
              "#0d0887"
             ],
             [
              0.1111111111111111,
              "#46039f"
             ],
             [
              0.2222222222222222,
              "#7201a8"
             ],
             [
              0.3333333333333333,
              "#9c179e"
             ],
             [
              0.4444444444444444,
              "#bd3786"
             ],
             [
              0.5555555555555556,
              "#d8576b"
             ],
             [
              0.6666666666666666,
              "#ed7953"
             ],
             [
              0.7777777777777778,
              "#fb9f3a"
             ],
             [
              0.8888888888888888,
              "#fdca26"
             ],
             [
              1,
              "#f0f921"
             ]
            ],
            "type": "heatmap"
           }
          ],
          "histogram": [
           {
            "marker": {
             "pattern": {
              "fillmode": "overlay",
              "size": 10,
              "solidity": 0.2
             }
            },
            "type": "histogram"
           }
          ],
          "histogram2d": [
           {
            "colorbar": {
             "outlinewidth": 0,
             "ticks": ""
            },
            "colorscale": [
             [
              0,
              "#0d0887"
             ],
             [
              0.1111111111111111,
              "#46039f"
             ],
             [
              0.2222222222222222,
              "#7201a8"
             ],
             [
              0.3333333333333333,
              "#9c179e"
             ],
             [
              0.4444444444444444,
              "#bd3786"
             ],
             [
              0.5555555555555556,
              "#d8576b"
             ],
             [
              0.6666666666666666,
              "#ed7953"
             ],
             [
              0.7777777777777778,
              "#fb9f3a"
             ],
             [
              0.8888888888888888,
              "#fdca26"
             ],
             [
              1,
              "#f0f921"
             ]
            ],
            "type": "histogram2d"
           }
          ],
          "histogram2dcontour": [
           {
            "colorbar": {
             "outlinewidth": 0,
             "ticks": ""
            },
            "colorscale": [
             [
              0,
              "#0d0887"
             ],
             [
              0.1111111111111111,
              "#46039f"
             ],
             [
              0.2222222222222222,
              "#7201a8"
             ],
             [
              0.3333333333333333,
              "#9c179e"
             ],
             [
              0.4444444444444444,
              "#bd3786"
             ],
             [
              0.5555555555555556,
              "#d8576b"
             ],
             [
              0.6666666666666666,
              "#ed7953"
             ],
             [
              0.7777777777777778,
              "#fb9f3a"
             ],
             [
              0.8888888888888888,
              "#fdca26"
             ],
             [
              1,
              "#f0f921"
             ]
            ],
            "type": "histogram2dcontour"
           }
          ],
          "mesh3d": [
           {
            "colorbar": {
             "outlinewidth": 0,
             "ticks": ""
            },
            "type": "mesh3d"
           }
          ],
          "parcoords": [
           {
            "line": {
             "colorbar": {
              "outlinewidth": 0,
              "ticks": ""
             }
            },
            "type": "parcoords"
           }
          ],
          "pie": [
           {
            "automargin": true,
            "type": "pie"
           }
          ],
          "scatter": [
           {
            "fillpattern": {
             "fillmode": "overlay",
             "size": 10,
             "solidity": 0.2
            },
            "type": "scatter"
           }
          ],
          "scatter3d": [
           {
            "line": {
             "colorbar": {
              "outlinewidth": 0,
              "ticks": ""
             }
            },
            "marker": {
             "colorbar": {
              "outlinewidth": 0,
              "ticks": ""
             }
            },
            "type": "scatter3d"
           }
          ],
          "scattercarpet": [
           {
            "marker": {
             "colorbar": {
              "outlinewidth": 0,
              "ticks": ""
             }
            },
            "type": "scattercarpet"
           }
          ],
          "scattergeo": [
           {
            "marker": {
             "colorbar": {
              "outlinewidth": 0,
              "ticks": ""
             }
            },
            "type": "scattergeo"
           }
          ],
          "scattergl": [
           {
            "marker": {
             "colorbar": {
              "outlinewidth": 0,
              "ticks": ""
             }
            },
            "type": "scattergl"
           }
          ],
          "scattermap": [
           {
            "marker": {
             "colorbar": {
              "outlinewidth": 0,
              "ticks": ""
             }
            },
            "type": "scattermap"
           }
          ],
          "scattermapbox": [
           {
            "marker": {
             "colorbar": {
              "outlinewidth": 0,
              "ticks": ""
             }
            },
            "type": "scattermapbox"
           }
          ],
          "scatterpolar": [
           {
            "marker": {
             "colorbar": {
              "outlinewidth": 0,
              "ticks": ""
             }
            },
            "type": "scatterpolar"
           }
          ],
          "scatterpolargl": [
           {
            "marker": {
             "colorbar": {
              "outlinewidth": 0,
              "ticks": ""
             }
            },
            "type": "scatterpolargl"
           }
          ],
          "scatterternary": [
           {
            "marker": {
             "colorbar": {
              "outlinewidth": 0,
              "ticks": ""
             }
            },
            "type": "scatterternary"
           }
          ],
          "surface": [
           {
            "colorbar": {
             "outlinewidth": 0,
             "ticks": ""
            },
            "colorscale": [
             [
              0,
              "#0d0887"
             ],
             [
              0.1111111111111111,
              "#46039f"
             ],
             [
              0.2222222222222222,
              "#7201a8"
             ],
             [
              0.3333333333333333,
              "#9c179e"
             ],
             [
              0.4444444444444444,
              "#bd3786"
             ],
             [
              0.5555555555555556,
              "#d8576b"
             ],
             [
              0.6666666666666666,
              "#ed7953"
             ],
             [
              0.7777777777777778,
              "#fb9f3a"
             ],
             [
              0.8888888888888888,
              "#fdca26"
             ],
             [
              1,
              "#f0f921"
             ]
            ],
            "type": "surface"
           }
          ],
          "table": [
           {
            "cells": {
             "fill": {
              "color": "#EBF0F8"
             },
             "line": {
              "color": "white"
             }
            },
            "header": {
             "fill": {
              "color": "#C8D4E3"
             },
             "line": {
              "color": "white"
             }
            },
            "type": "table"
           }
          ]
         },
         "layout": {
          "annotationdefaults": {
           "arrowcolor": "#2a3f5f",
           "arrowhead": 0,
           "arrowwidth": 1
          },
          "autotypenumbers": "strict",
          "coloraxis": {
           "colorbar": {
            "outlinewidth": 0,
            "ticks": ""
           }
          },
          "colorscale": {
           "diverging": [
            [
             0,
             "#8e0152"
            ],
            [
             0.1,
             "#c51b7d"
            ],
            [
             0.2,
             "#de77ae"
            ],
            [
             0.3,
             "#f1b6da"
            ],
            [
             0.4,
             "#fde0ef"
            ],
            [
             0.5,
             "#f7f7f7"
            ],
            [
             0.6,
             "#e6f5d0"
            ],
            [
             0.7,
             "#b8e186"
            ],
            [
             0.8,
             "#7fbc41"
            ],
            [
             0.9,
             "#4d9221"
            ],
            [
             1,
             "#276419"
            ]
           ],
           "sequential": [
            [
             0,
             "#0d0887"
            ],
            [
             0.1111111111111111,
             "#46039f"
            ],
            [
             0.2222222222222222,
             "#7201a8"
            ],
            [
             0.3333333333333333,
             "#9c179e"
            ],
            [
             0.4444444444444444,
             "#bd3786"
            ],
            [
             0.5555555555555556,
             "#d8576b"
            ],
            [
             0.6666666666666666,
             "#ed7953"
            ],
            [
             0.7777777777777778,
             "#fb9f3a"
            ],
            [
             0.8888888888888888,
             "#fdca26"
            ],
            [
             1,
             "#f0f921"
            ]
           ],
           "sequentialminus": [
            [
             0,
             "#0d0887"
            ],
            [
             0.1111111111111111,
             "#46039f"
            ],
            [
             0.2222222222222222,
             "#7201a8"
            ],
            [
             0.3333333333333333,
             "#9c179e"
            ],
            [
             0.4444444444444444,
             "#bd3786"
            ],
            [
             0.5555555555555556,
             "#d8576b"
            ],
            [
             0.6666666666666666,
             "#ed7953"
            ],
            [
             0.7777777777777778,
             "#fb9f3a"
            ],
            [
             0.8888888888888888,
             "#fdca26"
            ],
            [
             1,
             "#f0f921"
            ]
           ]
          },
          "colorway": [
           "#636efa",
           "#EF553B",
           "#00cc96",
           "#ab63fa",
           "#FFA15A",
           "#19d3f3",
           "#FF6692",
           "#B6E880",
           "#FF97FF",
           "#FECB52"
          ],
          "font": {
           "color": "#2a3f5f"
          },
          "geo": {
           "bgcolor": "white",
           "lakecolor": "white",
           "landcolor": "#E5ECF6",
           "showlakes": true,
           "showland": true,
           "subunitcolor": "white"
          },
          "hoverlabel": {
           "align": "left"
          },
          "hovermode": "closest",
          "mapbox": {
           "style": "light"
          },
          "paper_bgcolor": "white",
          "plot_bgcolor": "#E5ECF6",
          "polar": {
           "angularaxis": {
            "gridcolor": "white",
            "linecolor": "white",
            "ticks": ""
           },
           "bgcolor": "#E5ECF6",
           "radialaxis": {
            "gridcolor": "white",
            "linecolor": "white",
            "ticks": ""
           }
          },
          "scene": {
           "xaxis": {
            "backgroundcolor": "#E5ECF6",
            "gridcolor": "white",
            "gridwidth": 2,
            "linecolor": "white",
            "showbackground": true,
            "ticks": "",
            "zerolinecolor": "white"
           },
           "yaxis": {
            "backgroundcolor": "#E5ECF6",
            "gridcolor": "white",
            "gridwidth": 2,
            "linecolor": "white",
            "showbackground": true,
            "ticks": "",
            "zerolinecolor": "white"
           },
           "zaxis": {
            "backgroundcolor": "#E5ECF6",
            "gridcolor": "white",
            "gridwidth": 2,
            "linecolor": "white",
            "showbackground": true,
            "ticks": "",
            "zerolinecolor": "white"
           }
          },
          "shapedefaults": {
           "line": {
            "color": "#2a3f5f"
           }
          },
          "ternary": {
           "aaxis": {
            "gridcolor": "white",
            "linecolor": "white",
            "ticks": ""
           },
           "baxis": {
            "gridcolor": "white",
            "linecolor": "white",
            "ticks": ""
           },
           "bgcolor": "#E5ECF6",
           "caxis": {
            "gridcolor": "white",
            "linecolor": "white",
            "ticks": ""
           }
          },
          "title": {
           "x": 0.05
          },
          "xaxis": {
           "automargin": true,
           "gridcolor": "white",
           "linecolor": "white",
           "ticks": "",
           "title": {
            "standoff": 15
           },
           "zerolinecolor": "white",
           "zerolinewidth": 2
          },
          "yaxis": {
           "automargin": true,
           "gridcolor": "white",
           "linecolor": "white",
           "ticks": "",
           "title": {
            "standoff": 15
           },
           "zerolinecolor": "white",
           "zerolinewidth": 2
          }
         }
        },
        "title": {
         "text": "ClusterProt: Protein Clustering by Structural Similarity"
        },
        "xaxis": {
         "anchor": "y",
         "domain": [
          0,
          1
         ],
         "title": {
          "text": ""
         }
        },
        "yaxis": {
         "anchor": "x",
         "domain": [
          0,
          1
         ],
         "title": {
          "text": ""
         }
        }
       }
      }
     },
     "metadata": {},
     "output_type": "display_data"
    }
   ],
   "source": [
    "create_figure_plotly(clusters)"
   ]
  },
  {
   "cell_type": "markdown",
   "metadata": {},
   "source": [
    "You can also use the **Neurosnap Platform** for a no-code interface to utilize the following tools:\n",
    "\n",
    "- **ClusterProt**: <https://neurosnap.ai/service/ClusterProt>\n",
    "- **AFcluster**: <https://neurosnap.ai/service/AFcluster>\n",
    "\n",
    "Additionally, you can use the `NeurosnapAPI` class's `.submit_job` method to submit jobs programmatically.\n",
    "\n",
    "For a more thorough tutorial on the `NeurosnapAPI`, refer to the [Tutorial Notebook](https://github.com/NeurosnapInc/neurosnap/blob/main/example_notebooks/api.ipynb).\n"
   ]
  }
 ],
 "metadata": {
  "kernelspec": {
   "display_name": ".venv (3.13.5)",
   "language": "python",
   "name": "python3"
  },
  "language_info": {
   "codemirror_mode": {
    "name": "ipython",
    "version": 3
   },
   "file_extension": ".py",
   "mimetype": "text/x-python",
   "name": "python",
   "nbconvert_exporter": "python",
   "pygments_lexer": "ipython3",
   "version": "3.13.5"
  }
 },
 "nbformat": 4,
 "nbformat_minor": 2
}
